{
  "nbformat": 4,
  "nbformat_minor": 0,
  "metadata": {
    "colab": {
      "name": "Criptoanalisis.ipynb",
      "provenance": [],
      "collapsed_sections": []
    },
    "kernelspec": {
      "name": "python3",
      "display_name": "Python 3"
    },
    "language_info": {
      "name": "python"
    }
  },
  "cells": [
    {
      "cell_type": "code",
      "execution_count": 1,
      "metadata": {
        "id": "JNWbCJ2jt-PX",
        "colab": {
          "base_uri": "https://localhost:8080/"
        },
        "outputId": "32b2180c-5c8b-475d-c5f4-40aba6e6b9a4"
      },
      "outputs": [
        {
          "output_type": "stream",
          "name": "stderr",
          "text": [
            "[nltk_data] Downloading package cess_esp to /root/nltk_data...\n",
            "[nltk_data]   Package cess_esp is already up-to-date!\n"
          ]
        }
      ],
      "source": [
        "import nltk\n",
        "nltk.download('cess_esp')\n",
        "import matplotlib.pyplot as plt\n",
        "import re\n",
        "from unidecode import unidecode\n",
        "import numpy as np\n",
        "import pandas as pd"
      ]
    },
    {
      "cell_type": "code",
      "source": [
        "from google.colab import drive\n",
        "drive.mount('/content/drive')"
      ],
      "metadata": {
        "colab": {
          "base_uri": "https://localhost:8080/"
        },
        "id": "siclP6vASknS",
        "outputId": "0dc5503d-dd3b-41c8-a45e-f5aac97e8fd1"
      },
      "execution_count": 2,
      "outputs": [
        {
          "output_type": "stream",
          "name": "stdout",
          "text": [
            "Drive already mounted at /content/drive; to attempt to forcibly remount, call drive.mount(\"/content/drive\", force_remount=True).\n"
          ]
        }
      ]
    },
    {
      "cell_type": "code",
      "source": [
        "from nltk.corpus import cess_esp"
      ],
      "metadata": {
        "id": "MP5V842gKkee"
      },
      "execution_count": 3,
      "outputs": []
    },
    {
      "cell_type": "code",
      "source": [
        "sample_sentences = cess_esp.sents()"
      ],
      "metadata": {
        "id": "o-WOduNv3hST"
      },
      "execution_count": 4,
      "outputs": []
    },
    {
      "cell_type": "markdown",
      "source": [
        "# Obtención de la distribución de caracteres:\n",
        "Se usara un corpus de textos en español para obtener una distribución experimental de los caracteres en ese idioma. "
      ],
      "metadata": {
        "id": "aM034lHDR-jX"
      }
    },
    {
      "cell_type": "code",
      "source": [
        "def word_preprocessing(word):\n",
        "  word = unidecode(word)\n",
        "  word = word.upper()\n",
        "  return word"
      ],
      "metadata": {
        "id": "YFVcbEJqClvM"
      },
      "execution_count": 5,
      "outputs": []
    },
    {
      "cell_type": "code",
      "source": [
        "sample_sentences = [[word_preprocessing(word) for word in sentence] for sentence in sample_sentences] # remove accents and diacritics"
      ],
      "metadata": {
        "id": "mtP0US2w-afu"
      },
      "execution_count": 6,
      "outputs": []
    },
    {
      "cell_type": "code",
      "source": [
        "s = \" \"\n",
        "sample_sentences = [s.join(sentence) for sentence in sample_sentences] # join the word in order to have one list per sentence"
      ],
      "metadata": {
        "id": "sumxqftYBApX"
      },
      "execution_count": 7,
      "outputs": []
    },
    {
      "cell_type": "code",
      "source": [
        "# re.sub(\"[-_.,'?¿¡!0-9 ]{1,}\",'',sample_sentences[0])\n",
        "sample_sentences = [re.sub(\"[-_.,'?¿¡!0-9+/*\\\"\\'{(#)}%&=~:;| ]{1,}\",'',sentence) for sentence in sample_sentences] # remove everything expect for letters"
      ],
      "metadata": {
        "id": "WuAAv4nG62OF"
      },
      "execution_count": 8,
      "outputs": []
    },
    {
      "cell_type": "code",
      "source": [
        "# count the ocurrenced of each word and store it in a dictionary \n",
        "total_corpus = \"\"\n",
        "for sentence in sample_sentences:\n",
        "  total_corpus += sentence"
      ],
      "metadata": {
        "id": "isUqlTqcF4ij"
      },
      "execution_count": 9,
      "outputs": []
    },
    {
      "cell_type": "code",
      "source": [
        "alpha = [\"A\",\"B\",\"C\",\"D\",\"E\",\"F\",\"G\",\"H\",\"I\",\"J\",\"K\",\"L\",\"M\",\"N\",\"Ñ\",\"O\",\"P\",\"Q\",\"R\",\"S\",\"T\",\"U\",\"V\",\"W\",\"X\",\"Y\",\"Z\"]"
      ],
      "metadata": {
        "id": "3aMuRZSt6tb5"
      },
      "execution_count": 10,
      "outputs": []
    },
    {
      "cell_type": "code",
      "source": [
        "len(alpha)"
      ],
      "metadata": {
        "colab": {
          "base_uri": "https://localhost:8080/"
        },
        "id": "T7ESHGLhX9V9",
        "outputId": "d832c6bb-8a87-454a-8d62-39268d685441"
      },
      "execution_count": 11,
      "outputs": [
        {
          "output_type": "execute_result",
          "data": {
            "text/plain": [
              "27"
            ]
          },
          "metadata": {},
          "execution_count": 11
        }
      ]
    },
    {
      "cell_type": "code",
      "source": [
        "def get_letter_distribution(corpus,alphabet = alpha):\n",
        "  letter_distribution = dict()\n",
        "  for symbol in alphabet:\n",
        "    letter_distribution[symbol] = 0\n",
        "  for character in corpus:\n",
        "    letter_distribution[character]+=1\n",
        "  corpus_df = corpus_df = pd.DataFrame(letter_distribution.items(),columns=[\"Symbol\",\"Frequency\"]).sort_values(by=\"Frequency\",ascending=False,ignore_index=True)\n",
        "  return corpus_df\n"
      ],
      "metadata": {
        "id": "OZO4lNKIMamU"
      },
      "execution_count": 12,
      "outputs": []
    },
    {
      "cell_type": "code",
      "source": [
        "corpus_dist = get_letter_distribution(total_corpus)"
      ],
      "metadata": {
        "id": "gi1AHE8qL_-I"
      },
      "execution_count": 13,
      "outputs": []
    },
    {
      "cell_type": "code",
      "source": [
        "corpus_dist.head()"
      ],
      "metadata": {
        "colab": {
          "base_uri": "https://localhost:8080/",
          "height": 206
        },
        "id": "LrEkuD8b83l7",
        "outputId": "631096e1-4fb8-415e-950d-f821756d1282"
      },
      "execution_count": 14,
      "outputs": [
        {
          "output_type": "execute_result",
          "data": {
            "text/plain": [
              "  Symbol  Frequency\n",
              "0      E     112584\n",
              "1      A     105361\n",
              "2      O      78804\n",
              "3      N      61461\n",
              "4      S      61407"
            ],
            "text/html": [
              "\n",
              "  <div id=\"df-e4686c0d-72d5-45cf-a82d-ecf73fc490aa\">\n",
              "    <div class=\"colab-df-container\">\n",
              "      <div>\n",
              "<style scoped>\n",
              "    .dataframe tbody tr th:only-of-type {\n",
              "        vertical-align: middle;\n",
              "    }\n",
              "\n",
              "    .dataframe tbody tr th {\n",
              "        vertical-align: top;\n",
              "    }\n",
              "\n",
              "    .dataframe thead th {\n",
              "        text-align: right;\n",
              "    }\n",
              "</style>\n",
              "<table border=\"1\" class=\"dataframe\">\n",
              "  <thead>\n",
              "    <tr style=\"text-align: right;\">\n",
              "      <th></th>\n",
              "      <th>Symbol</th>\n",
              "      <th>Frequency</th>\n",
              "    </tr>\n",
              "  </thead>\n",
              "  <tbody>\n",
              "    <tr>\n",
              "      <th>0</th>\n",
              "      <td>E</td>\n",
              "      <td>112584</td>\n",
              "    </tr>\n",
              "    <tr>\n",
              "      <th>1</th>\n",
              "      <td>A</td>\n",
              "      <td>105361</td>\n",
              "    </tr>\n",
              "    <tr>\n",
              "      <th>2</th>\n",
              "      <td>O</td>\n",
              "      <td>78804</td>\n",
              "    </tr>\n",
              "    <tr>\n",
              "      <th>3</th>\n",
              "      <td>N</td>\n",
              "      <td>61461</td>\n",
              "    </tr>\n",
              "    <tr>\n",
              "      <th>4</th>\n",
              "      <td>S</td>\n",
              "      <td>61407</td>\n",
              "    </tr>\n",
              "  </tbody>\n",
              "</table>\n",
              "</div>\n",
              "      <button class=\"colab-df-convert\" onclick=\"convertToInteractive('df-e4686c0d-72d5-45cf-a82d-ecf73fc490aa')\"\n",
              "              title=\"Convert this dataframe to an interactive table.\"\n",
              "              style=\"display:none;\">\n",
              "        \n",
              "  <svg xmlns=\"http://www.w3.org/2000/svg\" height=\"24px\"viewBox=\"0 0 24 24\"\n",
              "       width=\"24px\">\n",
              "    <path d=\"M0 0h24v24H0V0z\" fill=\"none\"/>\n",
              "    <path d=\"M18.56 5.44l.94 2.06.94-2.06 2.06-.94-2.06-.94-.94-2.06-.94 2.06-2.06.94zm-11 1L8.5 8.5l.94-2.06 2.06-.94-2.06-.94L8.5 2.5l-.94 2.06-2.06.94zm10 10l.94 2.06.94-2.06 2.06-.94-2.06-.94-.94-2.06-.94 2.06-2.06.94z\"/><path d=\"M17.41 7.96l-1.37-1.37c-.4-.4-.92-.59-1.43-.59-.52 0-1.04.2-1.43.59L10.3 9.45l-7.72 7.72c-.78.78-.78 2.05 0 2.83L4 21.41c.39.39.9.59 1.41.59.51 0 1.02-.2 1.41-.59l7.78-7.78 2.81-2.81c.8-.78.8-2.07 0-2.86zM5.41 20L4 18.59l7.72-7.72 1.47 1.35L5.41 20z\"/>\n",
              "  </svg>\n",
              "      </button>\n",
              "      \n",
              "  <style>\n",
              "    .colab-df-container {\n",
              "      display:flex;\n",
              "      flex-wrap:wrap;\n",
              "      gap: 12px;\n",
              "    }\n",
              "\n",
              "    .colab-df-convert {\n",
              "      background-color: #E8F0FE;\n",
              "      border: none;\n",
              "      border-radius: 50%;\n",
              "      cursor: pointer;\n",
              "      display: none;\n",
              "      fill: #1967D2;\n",
              "      height: 32px;\n",
              "      padding: 0 0 0 0;\n",
              "      width: 32px;\n",
              "    }\n",
              "\n",
              "    .colab-df-convert:hover {\n",
              "      background-color: #E2EBFA;\n",
              "      box-shadow: 0px 1px 2px rgba(60, 64, 67, 0.3), 0px 1px 3px 1px rgba(60, 64, 67, 0.15);\n",
              "      fill: #174EA6;\n",
              "    }\n",
              "\n",
              "    [theme=dark] .colab-df-convert {\n",
              "      background-color: #3B4455;\n",
              "      fill: #D2E3FC;\n",
              "    }\n",
              "\n",
              "    [theme=dark] .colab-df-convert:hover {\n",
              "      background-color: #434B5C;\n",
              "      box-shadow: 0px 1px 3px 1px rgba(0, 0, 0, 0.15);\n",
              "      filter: drop-shadow(0px 1px 2px rgba(0, 0, 0, 0.3));\n",
              "      fill: #FFFFFF;\n",
              "    }\n",
              "  </style>\n",
              "\n",
              "      <script>\n",
              "        const buttonEl =\n",
              "          document.querySelector('#df-e4686c0d-72d5-45cf-a82d-ecf73fc490aa button.colab-df-convert');\n",
              "        buttonEl.style.display =\n",
              "          google.colab.kernel.accessAllowed ? 'block' : 'none';\n",
              "\n",
              "        async function convertToInteractive(key) {\n",
              "          const element = document.querySelector('#df-e4686c0d-72d5-45cf-a82d-ecf73fc490aa');\n",
              "          const dataTable =\n",
              "            await google.colab.kernel.invokeFunction('convertToInteractive',\n",
              "                                                     [key], {});\n",
              "          if (!dataTable) return;\n",
              "\n",
              "          const docLinkHtml = 'Like what you see? Visit the ' +\n",
              "            '<a target=\"_blank\" href=https://colab.research.google.com/notebooks/data_table.ipynb>data table notebook</a>'\n",
              "            + ' to learn more about interactive tables.';\n",
              "          element.innerHTML = '';\n",
              "          dataTable['output_type'] = 'display_data';\n",
              "          await google.colab.output.renderOutput(dataTable, element);\n",
              "          const docLink = document.createElement('div');\n",
              "          docLink.innerHTML = docLinkHtml;\n",
              "          element.appendChild(docLink);\n",
              "        }\n",
              "      </script>\n",
              "    </div>\n",
              "  </div>\n",
              "  "
            ]
          },
          "metadata": {},
          "execution_count": 14
        }
      ]
    },
    {
      "cell_type": "markdown",
      "source": [
        "# Obtención de distribución del texto cifrado: \n",
        "Se usara un preprocesamiento similar a aquel que se hizo con el corpus para obtener una distribución de los caracteres más comunes y compararlos"
      ],
      "metadata": {
        "id": "_ncu5hUjSJ4o"
      }
    },
    {
      "cell_type": "code",
      "source": [
        "handler = open(\"/content/drive/MyDrive/Colab Notebooks/Cryptoanalisis Goalberto/CifradoGoalberto.txt\")"
      ],
      "metadata": {
        "id": "ydI0KRCpMNx9"
      },
      "execution_count": 15,
      "outputs": []
    },
    {
      "cell_type": "code",
      "source": [
        "cipher_sentences = [line for line in handler]"
      ],
      "metadata": {
        "id": "N7v5ANaAUpw2"
      },
      "execution_count": 16,
      "outputs": []
    },
    {
      "cell_type": "code",
      "source": [
        "cipher_sentences = cipher_sentences[0]"
      ],
      "metadata": {
        "id": "fmh505xrbugW"
      },
      "execution_count": 17,
      "outputs": []
    },
    {
      "cell_type": "code",
      "source": [
        "len(cipher_sentences)"
      ],
      "metadata": {
        "colab": {
          "base_uri": "https://localhost:8080/"
        },
        "id": "KIUJWv0ec-et",
        "outputId": "dd274a6d-35de-464d-b8b7-c4125a484098"
      },
      "execution_count": 18,
      "outputs": [
        {
          "output_type": "execute_result",
          "data": {
            "text/plain": [
              "12199"
            ]
          },
          "metadata": {},
          "execution_count": 18
        }
      ]
    },
    {
      "cell_type": "code",
      "source": [
        "#cipher_sentences_processed = [sentence.replace(\" \",'') for sentence in cipher_sentences]\n",
        "cipher_sentences_processed = cipher_sentences.replace(\" \",'')"
      ],
      "metadata": {
        "id": "mADzjZC_UwUC"
      },
      "execution_count": 19,
      "outputs": []
    },
    {
      "cell_type": "code",
      "source": [
        "len(cipher_sentences_processed)"
      ],
      "metadata": {
        "colab": {
          "base_uri": "https://localhost:8080/"
        },
        "id": "E-_Q63eOdcQy",
        "outputId": "e42da962-e9a2-4951-e1df-80c7288397ad"
      },
      "execution_count": 20,
      "outputs": [
        {
          "output_type": "execute_result",
          "data": {
            "text/plain": [
              "10282"
            ]
          },
          "metadata": {},
          "execution_count": 20
        }
      ]
    },
    {
      "cell_type": "code",
      "source": [
        "cipher_text = cipher_sentences_processed\n",
        "#for sentence in cipher_sentences_processed:\n",
        "#  cipher_text += sentence"
      ],
      "metadata": {
        "id": "z6ikOKj7U_3E"
      },
      "execution_count": 21,
      "outputs": []
    },
    {
      "cell_type": "code",
      "source": [
        "set(cipher_text)"
      ],
      "metadata": {
        "colab": {
          "base_uri": "https://localhost:8080/"
        },
        "id": "59C8XeYdV9Bj",
        "outputId": "7677d210-9a6d-4c17-f295-279abac79c7b"
      },
      "execution_count": 22,
      "outputs": [
        {
          "output_type": "execute_result",
          "data": {
            "text/plain": [
              "{'!',\n",
              " '#',\n",
              " '$',\n",
              " '%',\n",
              " '&',\n",
              " '(',\n",
              " ')',\n",
              " '+',\n",
              " ',',\n",
              " '-',\n",
              " '/',\n",
              " ':',\n",
              " ';',\n",
              " '=',\n",
              " '?',\n",
              " '@',\n",
              " '[',\n",
              " '\\\\',\n",
              " ']',\n",
              " '{',\n",
              " '|',\n",
              " '}',\n",
              " '~',\n",
              " '¬',\n",
              " '°',\n",
              " '¿',\n",
              " '“',\n",
              " '”'}"
            ]
          },
          "metadata": {},
          "execution_count": 22
        }
      ]
    },
    {
      "cell_type": "code",
      "source": [
        "def get_cipher_text_distribution(cipher_text):\n",
        "  cipher_dict = dict()\n",
        "  alphabet = set(cipher_text)\n",
        "  for symbol in alphabet:\n",
        "    cipher_dict[symbol] = 0\n",
        "  for character in cipher_text:\n",
        "    cipher_dict[character]+=1\n",
        "  cipher_df = pd.DataFrame(cipher_dict.items(),columns=[\"Symbol\",\"Frequency\"]).sort_values(by=\"Frequency\",ascending=False,ignore_index=True)\n",
        "  return cipher_df"
      ],
      "metadata": {
        "id": "-L8-ESnMWP9O"
      },
      "execution_count": 23,
      "outputs": []
    },
    {
      "cell_type": "code",
      "source": [
        "cipher_dist = get_cipher_text_distribution(cipher_text)"
      ],
      "metadata": {
        "id": "O5mE_gfMW7wy"
      },
      "execution_count": 24,
      "outputs": []
    },
    {
      "cell_type": "code",
      "source": [
        "cipher_dist.head()"
      ],
      "metadata": {
        "colab": {
          "base_uri": "https://localhost:8080/",
          "height": 206
        },
        "id": "8C6HTyubXESL",
        "outputId": "d10309a1-6a5e-4a04-c1a5-b11a8b24d108"
      },
      "execution_count": 25,
      "outputs": [
        {
          "output_type": "execute_result",
          "data": {
            "text/plain": [
              "  Symbol  Frequency\n",
              "0      ;       1327\n",
              "1      $       1235\n",
              "2      &        926\n",
              "3      +        870\n",
              "4      #        801"
            ],
            "text/html": [
              "\n",
              "  <div id=\"df-67d23512-9172-405b-8fbf-c031bbd1fa9e\">\n",
              "    <div class=\"colab-df-container\">\n",
              "      <div>\n",
              "<style scoped>\n",
              "    .dataframe tbody tr th:only-of-type {\n",
              "        vertical-align: middle;\n",
              "    }\n",
              "\n",
              "    .dataframe tbody tr th {\n",
              "        vertical-align: top;\n",
              "    }\n",
              "\n",
              "    .dataframe thead th {\n",
              "        text-align: right;\n",
              "    }\n",
              "</style>\n",
              "<table border=\"1\" class=\"dataframe\">\n",
              "  <thead>\n",
              "    <tr style=\"text-align: right;\">\n",
              "      <th></th>\n",
              "      <th>Symbol</th>\n",
              "      <th>Frequency</th>\n",
              "    </tr>\n",
              "  </thead>\n",
              "  <tbody>\n",
              "    <tr>\n",
              "      <th>0</th>\n",
              "      <td>;</td>\n",
              "      <td>1327</td>\n",
              "    </tr>\n",
              "    <tr>\n",
              "      <th>1</th>\n",
              "      <td>$</td>\n",
              "      <td>1235</td>\n",
              "    </tr>\n",
              "    <tr>\n",
              "      <th>2</th>\n",
              "      <td>&amp;</td>\n",
              "      <td>926</td>\n",
              "    </tr>\n",
              "    <tr>\n",
              "      <th>3</th>\n",
              "      <td>+</td>\n",
              "      <td>870</td>\n",
              "    </tr>\n",
              "    <tr>\n",
              "      <th>4</th>\n",
              "      <td>#</td>\n",
              "      <td>801</td>\n",
              "    </tr>\n",
              "  </tbody>\n",
              "</table>\n",
              "</div>\n",
              "      <button class=\"colab-df-convert\" onclick=\"convertToInteractive('df-67d23512-9172-405b-8fbf-c031bbd1fa9e')\"\n",
              "              title=\"Convert this dataframe to an interactive table.\"\n",
              "              style=\"display:none;\">\n",
              "        \n",
              "  <svg xmlns=\"http://www.w3.org/2000/svg\" height=\"24px\"viewBox=\"0 0 24 24\"\n",
              "       width=\"24px\">\n",
              "    <path d=\"M0 0h24v24H0V0z\" fill=\"none\"/>\n",
              "    <path d=\"M18.56 5.44l.94 2.06.94-2.06 2.06-.94-2.06-.94-.94-2.06-.94 2.06-2.06.94zm-11 1L8.5 8.5l.94-2.06 2.06-.94-2.06-.94L8.5 2.5l-.94 2.06-2.06.94zm10 10l.94 2.06.94-2.06 2.06-.94-2.06-.94-.94-2.06-.94 2.06-2.06.94z\"/><path d=\"M17.41 7.96l-1.37-1.37c-.4-.4-.92-.59-1.43-.59-.52 0-1.04.2-1.43.59L10.3 9.45l-7.72 7.72c-.78.78-.78 2.05 0 2.83L4 21.41c.39.39.9.59 1.41.59.51 0 1.02-.2 1.41-.59l7.78-7.78 2.81-2.81c.8-.78.8-2.07 0-2.86zM5.41 20L4 18.59l7.72-7.72 1.47 1.35L5.41 20z\"/>\n",
              "  </svg>\n",
              "      </button>\n",
              "      \n",
              "  <style>\n",
              "    .colab-df-container {\n",
              "      display:flex;\n",
              "      flex-wrap:wrap;\n",
              "      gap: 12px;\n",
              "    }\n",
              "\n",
              "    .colab-df-convert {\n",
              "      background-color: #E8F0FE;\n",
              "      border: none;\n",
              "      border-radius: 50%;\n",
              "      cursor: pointer;\n",
              "      display: none;\n",
              "      fill: #1967D2;\n",
              "      height: 32px;\n",
              "      padding: 0 0 0 0;\n",
              "      width: 32px;\n",
              "    }\n",
              "\n",
              "    .colab-df-convert:hover {\n",
              "      background-color: #E2EBFA;\n",
              "      box-shadow: 0px 1px 2px rgba(60, 64, 67, 0.3), 0px 1px 3px 1px rgba(60, 64, 67, 0.15);\n",
              "      fill: #174EA6;\n",
              "    }\n",
              "\n",
              "    [theme=dark] .colab-df-convert {\n",
              "      background-color: #3B4455;\n",
              "      fill: #D2E3FC;\n",
              "    }\n",
              "\n",
              "    [theme=dark] .colab-df-convert:hover {\n",
              "      background-color: #434B5C;\n",
              "      box-shadow: 0px 1px 3px 1px rgba(0, 0, 0, 0.15);\n",
              "      filter: drop-shadow(0px 1px 2px rgba(0, 0, 0, 0.3));\n",
              "      fill: #FFFFFF;\n",
              "    }\n",
              "  </style>\n",
              "\n",
              "      <script>\n",
              "        const buttonEl =\n",
              "          document.querySelector('#df-67d23512-9172-405b-8fbf-c031bbd1fa9e button.colab-df-convert');\n",
              "        buttonEl.style.display =\n",
              "          google.colab.kernel.accessAllowed ? 'block' : 'none';\n",
              "\n",
              "        async function convertToInteractive(key) {\n",
              "          const element = document.querySelector('#df-67d23512-9172-405b-8fbf-c031bbd1fa9e');\n",
              "          const dataTable =\n",
              "            await google.colab.kernel.invokeFunction('convertToInteractive',\n",
              "                                                     [key], {});\n",
              "          if (!dataTable) return;\n",
              "\n",
              "          const docLinkHtml = 'Like what you see? Visit the ' +\n",
              "            '<a target=\"_blank\" href=https://colab.research.google.com/notebooks/data_table.ipynb>data table notebook</a>'\n",
              "            + ' to learn more about interactive tables.';\n",
              "          element.innerHTML = '';\n",
              "          dataTable['output_type'] = 'display_data';\n",
              "          await google.colab.output.renderOutput(dataTable, element);\n",
              "          const docLink = document.createElement('div');\n",
              "          docLink.innerHTML = docLinkHtml;\n",
              "          element.appendChild(docLink);\n",
              "        }\n",
              "      </script>\n",
              "    </div>\n",
              "  </div>\n",
              "  "
            ]
          },
          "metadata": {},
          "execution_count": 25
        }
      ]
    },
    {
      "cell_type": "markdown",
      "source": [
        "# Frequencias: "
      ],
      "metadata": {
        "id": "5NV_fjs0Zb8x"
      }
    },
    {
      "cell_type": "code",
      "source": [
        "plt.figure(figsize=(15,10))\n",
        "plt.subplot(2,1,1)\n",
        "plt.bar(corpus_dist[\"Symbol\"],corpus_dist[\"Frequency\"])\n",
        "plt.title(\"Frequencia del Corpus\")\n",
        "plt.subplot(2,1,2)\n",
        "plt.bar(cipher_dist[\"Symbol\"],cipher_dist[\"Frequency\"])\n",
        "plt.title(\"Frequencia del Mensaje Cifrado\")"
      ],
      "metadata": {
        "colab": {
          "base_uri": "https://localhost:8080/",
          "height": 600
        },
        "id": "5FPk6KIQYJ3T",
        "outputId": "6709aed7-dd46-44be-fae6-5ca5726bda62"
      },
      "execution_count": 26,
      "outputs": [
        {
          "output_type": "execute_result",
          "data": {
            "text/plain": [
              "Text(0.5, 1.0, 'Frequencia del Mensaje Cifrado')"
            ]
          },
          "metadata": {},
          "execution_count": 26
        },
        {
          "output_type": "display_data",
          "data": {
            "text/plain": [
              "<Figure size 1080x720 with 2 Axes>"
            ],
            "image/png": "[encoded data removed]"
          },
          "metadata": {
            "needs_background": "light"
          }
        }
      ]
    },
    {
      "cell_type": "code",
      "source": [
        "corpus_symbols_sorted = list(corpus_dist[\"Symbol\"])\n",
        "cipher_symbols_sorted = list(cipher_dist[\"Symbol\"][:-1])"
      ],
      "metadata": {
        "id": "7fti2gR6YW5J"
      },
      "execution_count": 27,
      "outputs": []
    },
    {
      "cell_type": "code",
      "source": [
        "print(len(corpus_symbols_sorted))\n",
        "print(len(cipher_symbols_sorted))\n"
      ],
      "metadata": {
        "colab": {
          "base_uri": "https://localhost:8080/"
        },
        "id": "kD0GpIEyZ3ns",
        "outputId": "9bb13460-5910-4e6e-cf19-466bcbaead02"
      },
      "execution_count": 28,
      "outputs": [
        {
          "output_type": "stream",
          "name": "stdout",
          "text": [
            "27\n",
            "27\n"
          ]
        }
      ]
    },
    {
      "cell_type": "code",
      "source": [
        "traducer = dict(zip(cipher_symbols_sorted,corpus_symbols_sorted))"
      ],
      "metadata": {
        "id": "eucFS1R9aA0c"
      },
      "execution_count": 29,
      "outputs": []
    },
    {
      "cell_type": "code",
      "source": [
        "traducer"
      ],
      "metadata": {
        "colab": {
          "base_uri": "https://localhost:8080/"
        },
        "id": "1mJf-Y10aXYM",
        "outputId": "2181092b-4474-436e-b53c-cbb7fd62b58b"
      },
      "execution_count": 30,
      "outputs": [
        {
          "output_type": "execute_result",
          "data": {
            "text/plain": [
              "{';': 'E',\n",
              " '$': 'A',\n",
              " '&': 'O',\n",
              " '+': 'N',\n",
              " '#': 'S',\n",
              " ']': 'I',\n",
              " '¿': 'R',\n",
              " '?': 'L',\n",
              " '-': 'D',\n",
              " '=': 'T',\n",
              " '{': 'C',\n",
              " ':': 'U',\n",
              " '/': 'P',\n",
              " '!': 'M',\n",
              " '°': 'B',\n",
              " '[': 'G',\n",
              " '”': 'F',\n",
              " ',': 'V',\n",
              " '|': 'Q',\n",
              " '@': 'Y',\n",
              " '(': 'H',\n",
              " '¬': 'J',\n",
              " ')': 'Z',\n",
              " '~': 'X',\n",
              " '}': 'K',\n",
              " '\\\\': 'W',\n",
              " '%': 'Ñ'}"
            ]
          },
          "metadata": {},
          "execution_count": 30
        }
      ]
    },
    {
      "cell_type": "code",
      "source": [
        "cipher_sentences"
      ],
      "metadata": {
        "colab": {
          "base_uri": "https://localhost:8080/",
          "height": 1000
        },
        "id": "B8IZwisxcele",
        "outputId": "664c341f-c5eb-4ec8-9e0d-ae42cfcb45f4"
      },
      "execution_count": 31,
      "outputs": [
        {
          "output_type": "execute_result",
          "data": {
            "text/plain": [
              "'$:#@:; #:;+-¿$+ °]?$+ +; °];¿&# ${-;¿$?$+ ;# ;{ ?&+ !]{ °;]#-; {$ ]#?:+-¿]$ ?; {$ =]”;¿+;[:¿]?$? °&{°]& =&# ,:;¿¬$ ;# ?&+ !]{ °;]#-]:#& !$#?]$#- $=;/-& ;{ ¿;-& ?; -¿$”$)$¿ ;# =]¿=:#+-$#=]$+ +];!/¿; =$!”]$#-;+ +]# ?;)$¿ ?; &,¿;=;¿ $ {&+ ={];#-;+ +;¿°]=]&+ ?; /¿]!;¿$ =${]?$? @:; +; $+&=]$# =&# #:;+-¿&+ ;~/;¿-&+ ;# =]”;¿+;[:¿]?$? {$+ ;~/;=-$-]°$+ +&# ,:#?$!;#-${;+ :#$ =&+$ =&# {$ @:; +];!/¿; /&?;!&+ =&#-$¿ ;+ ;{ #]°;{ ?; ]#=;¿-]?:!”¿; ;# ;{ $!”]-& =]”;¿#;-]=& {&+ $-$=$#-;+ =$!”]$# ¿;[:{$¿!;#-; +:+ -$=-]=$+ -;=#]=$+ | /¿&=;?]!];#-&+ /$¿$ ;°$?]¿ {$ ?;-;==]&# ?;)$#?& $ {&+ ?;,;#+&¿;+ {:=($#?& /$¿$ +;[:]¿ ;{ ¿]-!& =:$#?& !$#?]$#- $|:?$ $ ¿;?:=]¿ ;+$ “¿;=($ =&!/$¿-];#?& #:;+-¿&+ $/¿;#?]¬$);+ | ;~/;=-$-]°$+ ]#,&¿!$?&+ | ¿;+/${?$?&+ /&¿ /¿:;”$+ -$!”];# $°$#¬$!&+ ;# {$ !]+]&# ?; !$#?]$#- ($=;¿ @:; -&?$+ {$+ &¿[$#]¬$=]&#;+ ;+-;# +;[:¿$+ =&#-¿$ {$+ =]”;¿$!;#$¬$+ | =&#,];# ;# +: /¿;/$¿$=]&# ;{ ]#,&¿!; ?; ;+-; $%& =$-&¿=; /¿;?]==]&#;+ ?; =]”;¿+;[:¿]?$? /$¿$ ?&+ !]{ °;]#-]?&+ | !$+ ${{$ /¿;+;#-$ !$+ ?; :#$ ?&=;#$ ?; /:#-&+ ?; °]+-$ ?; #:;+-¿&+ {]?;¿;+ | /¿]#=]/${;+ ;~/;¿-&+ :”]=$?&+ ;# -&?& ;{ !:#?& ]#={:|;#?& $ +$#?¿$ )&|=; ;°/ [{&”${ ]#-;{ $?°$#=;? /¿$=-]=;+ | =($¿{;+ =$¿!$\\\\${ +°/ | ?]¿;=-&¿ ?; -;=#&{&[]$ /$+; {$ /$[]#$ /$¿$ ;~/{&¿$¿ {$+ /¿;?]==]&#;+ ?; +;[:¿]?$? ?; !$#?]$#- /$¿$ °;]#-]?&+ {$ $!;#$¬$ ?;{ ¿$#+&!}$¿; ($ =¿;=]?& +][#],]=$-]°$!;#-; $ {& {$¿[& ?; {$ :{-]!$ ?;=$?$ | =&#-]#:$¿$ +: -;#?;#=]$ ${ ${¬$ ;{ #;[&=]& ?;{ ¿$#+&!}$¿; ;+ +;#=]{{$!;#-; ?;!$+]$?& {:=¿$-]°& $ !;#&+ @:; {&+ [&”];¿#&+ ]#-;¿#$=]&#${;+ | {$+ ]##&°$=]&#;+ -;=#&{&[]=$+ /:;?$# ${-;¿$¿ ?; !$#;¿$ ,:#?$!;#-${ ;{ =${=:{& ?; {$ ¿;#-$”]{]?$? ?; {&+ $-$=$#-;+ $:#@:; (;!&+ °]+-& ;+,:;¿¬&+ /$¿$ ]#-;¿¿:!/]¿ {$+ &/;¿$=]&#;+ | ¿;+/&#+$”]{]¬$¿ $ {&+ $=-&¿;+ ?; {$+ $!;#$¬$+ {&+ =]”;¿?;{]#=:;#-;+ +]!/{;!;#-; +; -¿$+{$?$# $ &-¿$ /{$-$,&¿!$ =&!& /$¿-; ?;{ !&?;{& ?; #;[&=]& ?;{ ¿$#+&!}$¿; =&!& +;¿°]=]& /$¿$ =&#-]#:$¿ =&# +:+ &/;¿$=]&#;+ !:=(&+ $=-&¿;+ ?;{ ¿$#+&!}$¿; &/;¿$# ?;+?; {:[$¿;+ @:; #& +; ¿][;# /&¿ {$ {;[]+{$=]&# ;+-$?&:#]?;#+; | ?;+?; ¿;[]&#;+ ?&#?; +:+ $==]&#;+ #& -];#;# -$#-&+ =&+-&+ #] ¿;/;¿=:+]&#;+ ;+/;¿$!&+ °;¿ !$+ {$+ &/;¿$=]&#;+ ?; ¿$#+&!}$¿; =&!& +;¿°]=]& +:;{;# ]!/{]=$¿ $ °$¿]&+ $=-&¿;+ =$?$ :#& ?; {&+ =:${;+ ¿;${]¬$ :# ;{;!;#-& ;+/;=],]=& ?;{ $-$@:; $ =$!”]& ?; :#$ =:&-$ & :#$ /$¿-; ?; {&+ “;#;,]=]&+ /¿;°;!&+ @:; $ {& {$¿[& ?;{ ?&+ !]{ °;]#-]?&+ $:!;#-$¿$ ;{ =&#,{]=-& ;#-¿; ;+-&+ $=-&¿;+ | ;+-; /:;?; $=$”$¿ /¿&°&=$#?& !${&+ ¿;+:{-$?&+ /$¿$ {$+ °]=-]!$+ {&+ =&#,{]=-&+ /:;?;# /¿&?:=]¿+; =:$#?& {&+ &”);-]°&+ #& /$[$# & +] {$+ ,:;¿¬$+ ?; +;[:¿]?$? ?;+!$#-;{$# {$ =$/$=]?$? ?; =&”¿& ?; {&+ /;¿/;-¿$?&¿;+ -$!”];# /:;?;# +:¿[]¿ =&#,{]=-&+ =:$#?& {$+ &¿[$#]¬$=]&#;+ ?; °]=-]!$+ $=$”$# /$[$#?& :# $=-&¿ =&#=¿;-& /:;?; +;#-]¿ @:; #& ($ =&”¿$?& {& +:,]=];#-; & @:; #& ;+-$ ¿;=]”];#?& +: /$¿-; ):+-$ |$ ;+-$!&+ °];#?& ;+-; -]/& ?; =&#,{]=-&+ ;#-¿; {&+ /;¿/;-¿$?&¿;+ | {$+ °]=-]!$+ /&?¿]$# +:,¿]¿ /&¿ ;{{& ;# {&+ /¿&~]!&+ ?&=; !;+;+ ;+/;¿$!&+ °;¿ !:=($+ +]-:$=]&#;+ ;# {$+ @:; {$+ °]=-]!$+ /$[$¿$# :# !]{{&# ?; ?&{$¿;+ & !$+ /$¿$ ;°]-$¿ @:; +; /:”{]@:;# +:+ ?$-&+ ¿&”$?&+ ;# ${[:#$+ ?; ;+-$+ +]-:$=]&#;+ ${[:#&+ & -&?&+ ;+&+ ?$-&+ /:;?;# +;¿ /:”{]=$?&+ /&¿ :#& ?; {&+ $=-&¿;+ ?; {$ &/;¿$=]&# ?;”]?& $ :# =&#,{]=-& =&#,&¿!; ;+-&+ (;=(&+ $:!;#-;# !$|&¿ +;¿$ ;{ ;,;=-& ;# {$ ,&¿!$ ;# @:; {$+ &¿[$#]¬$=]&#;+ /];#+;# +&”¿; ;{ /$[& ?; ¿;+=$-;+ ;{ [&”];¿#& ?; {&+ ;+-$?&+ :#]?&+ ;+-$ ;#,&=$?& ;# ;{ ¿$#+&!}$¿; | ;# =&!& ,¿;#$¿{& | ;+-& /:;?; -;#;¿ =&#+;=:;#=]$+ #;[$-]°$+ /$¿$ {$+ &¿[$#]¬$=]&#;+ /&¿ ;);!/{& {$+ &¿[$#]¬$=]&#;+ ;+-$?&:#]?;#+;+ | {$+ @:; #& -];#;# +;?; ;# {&+ ;+-$?&+ :#]?&+ /;¿& &/;¿$# ;# ;+; /$]+ #& /:;?;# /$[$¿ $ /;¿/;-¿$?&¿;+ +$#=]&#$?&+ #] $ #]#[:# [¿:/& & ]#?]°]?:& @:; ,][:¿; ;# {$ {]+-$ ?; #& /$[& ?;{ ?;/$¿-$!;#-& ?;{ -;+&¿& ?; {&+ ;+-$?&+ :#]?&+ $:# $+] ;# °$¿]&+ =$+&+ /:”{]=&+ {$+ °]=-]!$+ /$[$¿&# $ [¿:/&+ @:; /&?]$# -;#;¿ ${[:#$ =&#;~]&# +:;{-$ =&# {$+ ;#-]?$?;+ +$#=]&#$?$+ #& #;=;+$¿]$!;#-; =&#;~]&#;+ [$¿$#-]¬$?$+ & ]#={:+& =&#=¿;-$+ /;¿& +] ${[:#$ =¿;;#=]$ {;°; ?; @:; /&?¿]$ ($”;¿ :#$ =&#;~]&# #& ;+-$!&+ +;[:¿&+ ?; @:; ;{ [&”];¿#& ?; :# ;+=$¿!];#-& $ :#$ & !$+ ?; {$+ [¿$#?;+ &¿[$#]¬$=]&#;+ @:; ¿;${]=;# :# /$[& $ :#$ /¿;+:#-$ ;#-]?$? +$#=]&#$?$ =&# {$ !;¿$ ]#-;#=]&# ?; ]#-;#-$¿ ,¿;#$¿ | ;°]-$¿ @:; {$+ &¿[$#]¬$=]&#;+ °]=-]!$+ /$[:;# [¿$#?;+ +:!$+ /&¿ ?;!$#?$+ ?; ;~-&¿+]&# ($| °$¿]$+ /;¿+/;=-]°$+ ?],;¿;#-;+ +&”¿; {&+ /$[&+ ?; ;~-&¿+]&# ]#={:]?$ {$ ?; /¿&(]”]¿{&+ ?]¿;=-$!;#-; /$¿$ @:; -&?& ;{ /¿&=;+& +;$ ]{;[${ ;# =&#+;=:;#=]$ /¿;°;!&+ @:; /¿&”$”{;!;#-; ($”¿$ ${[:# ¿;=:¿+& #;[$-]°& /$¿$ :#$ &¿[$#]¬$=]&# $,;=-$?$ @:; ($|$ /$[$?& :#$ ?;!$#?$ ?; ;~-&¿+]&# $ {& {$¿[& ?; ?&+ !]{ °;]#-; &”+;¿°$!&+ @:; {&+ /;¿/;-¿$?&¿;+ ?; “$)$ +&,]+-]=$=]&# $/¿;#?];¿&# @:; /&?]$# =¿;$¿ [¿$#?;+ ]!/$=-&+ ;# ;{ ;+/$=]& ?; {$ -;=#&{&[]$ &/;¿$-]°$ &- @:]¬$+ ]#={:+& !$|&¿;+ ?; {& @:; /¿;-;#?]$# {&+ $=-&¿;+ +;[:]¿$# ;~/{&¿$#?& ;{ ;+/$=]& &- ;# ?&+ !]{ °;]#-]?&+ | :-]{]¬$¿$# =$?$ °;¬ !$+ ;{ ¿$#+&!}$¿; ;# +:+ $-$@:;+ ;+-$ ,&=${]¬$=]&# +; /¿&?:=]¿$ /&¿ {$ #;=;+]?$? ?; !$#-;#;¿ {&+ ;#-&¿#&+ &- /{;#$!;#-; &/;¿$-]°&+ ;+/;=]${!;#-; =:$#?& {&+ +]+-;!$+ ,&¿!$# /$¿-; ?; ]#,¿$;+-¿:=-:¿$+ =¿]-]=$+ {&+ $-$@:;+ =&#-¿$ ;#-&¿#&+ =¿]-]=&+ ?; &- /:;?;# =$:+$¿ [¿$°;+ -¿$+-&¿#&+ ; ]#={:+& /&#;¿ ;# /;{][¿& °]?$+ (:!$#$+ {& @:; $:!;#-$ {$ /¿;+]&# /$¿$ @:; {$+ &¿[$#]¬$=]&#;+ /$[:;# :# ¿;+=$-; /$¿$ $[¿$°$¿ ;{ /¿&”{;!$ !:=(&+ ?; ;+-&+ ?]+/&+]-]°&+ &- #& +; =&#+-¿:|;# =&# {$ +;[:¿]?$? ;# {$ °$#[:$¿?]$ ?;{ ?]+;%& | $=-:${!;#-; ;+-$!&+ °];#?& :# $:!;#-& !$+]°& ;# ;{ #:!;¿& ?; °:{#;¿$”]{]?$?;+ @:; +; ]?;#-],]=$# ;# {&+ ;#-&¿#&+ &- (]+-&¿]=$!;#-; {$+ °:{#;¿$=]&#;+ ;# {$ ¿;[]&# ?; {$ $/) #& +; ($# (;=(& /:”{]=$+ /;¿& ;+ /¿&”$”{; @:; ;+-& =$!”]; ;# ?&+ !]{ °;]#-]?&+ $ !;?]?$ @:; {$ ;~-&¿+]&# !:{-],$=;-]=$ +;$ !$+ ,¿;=:;#-; ;# ;{ /$+$?& ($=;¿ /:”{]=$ :#$ °:{#;¿$=]&# #& “;#;,]=]$”$ #] ${ $-$=$#-; #] $ {$ &¿[$#]¬$=]&# $,;=-$?$ {&+ $-$=$#-;+ @:;¿]$# /;¿!$#;=;¿ ]#°]+]”{;+ ;{ !$|&¿ -];!/& /&+]”{; =&# {$ ;+/;¿$#¬$ ?; !$#-;#;¿ +: $==;+& $ {$+ ¿;?;+ ?; {$+ °]=-]!$+ ?:¿$#-; {$¿[&+ /;¿]&?&+ | {$+ °]=-]!$+ @:;¿]$# ;°]-$¿ ;{ ?$%& $ {$ ¿;/:-$=]&# ;{ ]!/$=-& ,]#$#=];¿& | &-¿$+ =&#+;=:;#=]$+ @:; +; ?;¿]°$# ?; :#$ °:{#;¿$=]&# {$ ;~-&¿+]&# !:{-],$=;-]=$ ($ =$!”]$?& -&?& ;+& $(&¿$ {&+ $-$=$#-;+ +]!/{;!;#-; $!;#$¬$# =&# ;~/&#;¿ {$+ °:{#;¿$=]&#;+ | /:”{]=$¿ {&+ ?$-&+ +;#+]”{;+ /$¿$ $:!;#-$¿ {$ :¿[;#=]$ ?; /$[$¿ {$+ &¿[$#]¬$=]&#;+ ;# {$ $/) ?;”;# ;+-$¿ /¿;/$¿$?$+ /$¿$ ($=;¿ ,¿;#-; $ ;+-; -]/& ?; &/;¿$?&¿;+ ?; ;~-&¿+]&# /;¿& {$!;#-$”{;!;#-; !:=(&+ ;# {$ ¿;[]&# =$¿;=;# ?; ;~/;¿];#=]$ =&# ;+-; -]/& ?; $!;#$¬$+ & #& {$+ -&!$# ;# +;¿]& /&¿ {& -$#-& /¿;°;!&+ @:; {&+ $-$=$#-;+ ($¿$# /:”{]=$+ !:=($+ !$+ °:{#;¿$=]&#;+ ?; &¿[$#]¬$=]&#;+ ;# {$ $/) ¿:+]$ !$#-;#?¿$ :#$ /&+-:¿$ $[¿;+]°$ ;# {& @:; @:;?$ ?; ?&+ !]{ °;]#-]:#& | ;# ?&+ !]{ °;]#-]?&+ =&# :# ;#,$+]+ +&+-;#]?& ;# {&+ &”);-]°&+ ?; {$ &-$# ;:¿&/$ ?;{ ;+-; :=¿$#]$ $,[$#]+-$# | ;{ +;=-&¿ ;#;¿[;-]=& ;{ [&”];¿#& ?; {&+ ;+-$?&+ :#]?&+ $-¿]”:|& $ ¿:+]$ ;{ ]#=]?;#-; ?; =&!/¿&!]+& ?; {$ =$?;#$ ?; +:!]#]+-¿& ?; +&{$¿}]#?+ {& @:; ?;!:;+-¿$ @:; ¿:+]$ -];#; {$ =$/$=]?$? ?; {&[¿$¿ :# ]!/$=-& [;#;¿${]¬$?& =¿;;!&+ @:; {&+ ;#-&¿#&+ ?; {$ =$?;#$ ?; +:!]#]+-¿& ?; +&,-}$¿; | ?; {$ =$?;#$ ?; +:!]#]+-¿& ;# [;#;¿${ +;[:]¿$# +];#?& ;{ &”);-]°& ?; ¿:+]$ ;{ /¿&~]!& $%& $?;!$+ {$ !$#]/:{$=]&# ?; {&+ !;-&?&+ ?; $:-;#-]=$=]&# ;# ;#-&¿#&+ (]”¿]?&+ ?; #:”; & ;# ;{ +]-]& /&#; ?; !$#],];+-& -$=-]=$+ ]##&°$?&¿$+ {& @:; #&+ {{;°$ $ /;#+$¿ @:; ;{ #]°;{ ?; +&,]+-]=$=]&# | ;{ ${=$#=; ?; {$+ &/;¿$=]&#;+ ¿:+$+ +; $!/{]$¿$# ]¿$# :-]{]¬$¿$ +:+ (;¿¿$!];#-$+ =]”;¿#;-]=$+ ?; !$#;¿$ !:=(& !$+ $[¿;+]°$ /$¿$ /¿&!&°;¿ {&+ ]#-;¿;+;+ ¿;[]&#${;+ {$+ &/;¿$=]&#;+ ?; ]#,&¿!$=]&# $-¿]”:]?$+ /&¿ {&+ ;+-$?&+ :#]?&+ $ ]¿$# ;# ?&+ !]{ °;]#-; | ?&+ !]{ °;]#-]:#& ?;!&+-¿$¿&# -$=-]=$+ !$+ $[¿;+]°$+ @:; {$+ °]+-$+ $#-;¿]&¿!;#-; ]¿$# -$!”];# +;[:]¿$ $-$=$#?& $ ]+¿$;{ | $ &-¿&+ /$]+;+ ?; &¿];#-; !;?]& ($# ?;!&+-¿$?& +: =$/$=]?$? | °&{:#-$? ?; :-]{]¬$¿ !${}$¿; ?;+-¿:=-]°& $+] @:; /¿;°;!&+ @:; $/¿&°;=($¿$# =:${@:];¿ &/&¿-:#]?$? @:; +; {;+ /¿;+;#-; ;# :{-]!$ ]#+-$#=]$ °;¿;!&+ $ ]¿$# -¿$-$#?& ?; =¿;$¿ :# !$|&¿ ;@:]{]”¿]& ?; /&?;¿ ;# ,:#=]&# ?; +:+ /¿&/]&+ ]#-;¿;+;+ {&+ (;!&+ °]+-& =&# &”);-]°&+ ;# ;{ ;~-¿$#);¿& /;¿& {& !$+ /¿&”$”{; ;+ @:; +: &”);-]°& $ {& {$¿[& ?; ?&+ !]{ °;]#-]?&+ +;$ ¿;[]&#${ =(]#$ +;[:]¿$ +];#?& !:| $[¿;+]°$ $/&|$#?& {$ ]#]=]$-]°$ ?;{ =]#-:¿&# | ¿:-$ ?; {$ +;?$ :-]{]¬$#?& ;{ =]”;¿;+/]&#$); $(&¿$ @:; ;{ !]#]+-;¿]& ?; +;[:¿]?$? ?;{ ;+-$?& | ;{ ;);¿=]-& /&/:{$¿ ?; {]”;¿$=]&# ($# =&!/{;-$?& {$ !$|&¿ /$¿-; ?; +: ¿;&¿[$#]¬$=]&# +:+ &/;¿$=]&#;+ °$# $ ;+-$¿ !:=(& !$+ =;#-¿$?$+ =(]#$ ($ !&+-¿$?& +: °&{:#-$? ?; $!/{]$¿ +:+ &/;¿$=]&#;+ | -&!$¿ !;?]?$+ @:; $#-;+ ;{ /$]+ #& ;+-$”$ ?]+/:;+-& $ -&!$¿ $ !;?]?$ @:; {$+ -;#+]&#;+ [;&/&{]-]=$+ +][:;# $:!;#-$#?& {$ [¿$# /¿;[:#-$ ;+ =:$#?& °;¿;!&+ $ =(]#$ ?;+/{;[$¿ ${[:#$+ ?; +:+ =$/$=]?$?;+ ?;+-¿:=-]°$+ =&#&=]?$+ /;¿& $:# #& :-]{]¬$?$+ =&¿;$ ?;{ #&¿-; ,¿;#-; $ +:+ ?;+$,]&+ [;&[¿$,]=&+ ]#-;¿#$=]&#${;+ | ,]#$#=];¿&+ ;+-$ ?]+/:;+-$ $ -&!$¿ !:=(&+ ¿];+[&+ ;# ?&+ !]{ °;]#-]?&+ ;+/;¿$!&+ °;¿ $ =&¿;$ ?;{ #&¿-; ,{;~]&#$¿ +:+ =$/$=]?$?;+ =]”;¿#;-]=$+ /$¿$ =&!/;#+$¿ +: ,${-$ ?; &-¿&+ ]#+-¿:!;#-&+ ?; /&?;¿ #$=]&#${ ;{ $/$¿$-& =]”;¿#;-]=& #&¿=&¿;$#& +;[:]¿$ $/&|$#?& ${ ¿;[]!;# ?; \\\\]! !;?]$#-; {$ ,]#$#=]$=]&# ?; {$+ $!”]=]&#;+ #:={;$¿;+ | {$ &”-;#=]&# ?; ]#,&¿!$=]&# ;+-¿$-;[]=$ =&# {$ $,]¿!$=]&# ?;{ =&#-¿&{ -${]”$# | {$ +${]?$ ?; {$+ ,:;¿¬$+ ;+-$?&:#]?;#+;+ ?; $,[$#]+-$# +; /:;?;# $#-]=]/$¿ !$+ &/;¿$=]&#;+ ?; =]”;¿;+/]&#$); ; ]#,&¿!$=]&# ;!/;¬$¿;!&+ $ °;¿ $ {&+ $=-&¿;+ ($”]-:${;+ ?; {$+ &/;¿$=]&#;+ ?; ]#,&¿!$=]&# ]¿$# =(]#$ | ¿:+]$ ]!/:{+$¿ #$¿¿$-]°$+ /$¿$ $/&|$¿ +:+ ]#-;¿;+;+ ($+-$ ,]#${;+ ?; ?&+ !]{ °;]#-]:#& | /¿]#=]/]&+ ?; ?&+ !]{ °;]#-]?&+ -$!”];# ($¿$# (]#=$/]; ;# {$+ /;¿=;/=]&#;+ #;[$-]°$+ ;# -&¿#& $ {&+ $=&#-;=]!];#-&+ ;+/;=]${!;#-; {$ /;¿=;/=]&# ?; @:; {&+ ;+-$?&+ :#]?&+ #& =:!/{]& +:+ =&!/¿&!]+&+ =&# &¿[$#]¬$=]&#;+ | /$]+;+ {$ ?;={$¿$=]&# ?; :# ;!]¿$-& -$!”];# /:;?; ;#°${;#-&#$¿ $ {&+ /;¿/;-¿$?&¿;+ ;~-¿;!]+-$+ /¿&]+{$!]=&+ /$¿$ @:; $!/{];# +:+ $=-]°]?$?;+ ?; /¿&/$[$#?$ {& @:; ]#={:|; -$=-]=$+ ?; ($=\\\\-]°]+!& =&!& +:+-]-:=]&#;+ {$ $/¿&/]$=]&# ?; =:;#-$+ ;# {$+ ¿;?;+ +&=]${;+ | {$ ?],:+]&# ?; {]+-$+ ?; $+;+]#$-&+ =&!/]{$?$+ $ /$¿-]¿ ?; ?$-&+ ?; =&?][& $”];¿-& & =&!/¿&!;-]?&+ {$ ;,]=$=]$ ?; {$+ ?;;/,$\\\\;+ °]?;&+ ,${+&+ =&# $/$¿];#=]$ !:| ¿;${ ;# {$+ &/;¿$=]&#;+ ?; ]#,&¿!$=]&# +; ($ ?;”$-]?& ;# {$ =&!:#]?$? ?; +;[:¿]?$? /;¿& {&+ $=-&¿;+ /$-¿&=]#$?&+ /&¿ ;{ ;+-$?& | =&# !&-]°$=]&#;+ ,]#$#=];¿$+ -$!”];# ($# ?;!&+-¿$?& :# =¿;=];#-; ]#-;¿;+ ;# ;+-$ -;=#&{&[]$ !$#?]$#- &”+;¿°& /:”{]=$=]&#;+ | $#:#=]&+ +&”¿; {$ -;=#&{&[]$ ?;;/,$\\\\; ;# ,&¿&+ =¿]!]#${;+ ={$#?;+-]#&+ ;# ¿:+& ; ]#[{;+ $ {& {$¿[& ?; ?&+ !]{ °;]#-; | ?&+ !]{ °;]#-]:#& {&+ :+:$¿]&+ ?; ;+-&+ ,&¿&+ ={$#?;+-]#&+ $#:#=]$”$# °]?;&+ ; ]!$[;#;+ ?;;/,$\\\\; /;¿+&#${]¬$?&+ $+] =&!& ,&¿!$=]&# /$¿$ @:; {&+ :+:$¿]&+ =¿;$¿$# +:+ /¿&/]&+ !;?]&+ !$#]/:{$?&+ ;{ $:?]& ?;;/,$\\\\; ($ ,$=]{]-$?& ;+@:;!$+ ?; ,¿$:?; ?;{ -]/& ?; =&¿¿;& ;{;=-¿&#]=& =&!;¿=]${ {$+ ,:;#-;+ $”];¿-$+ /&#;# ?; ¿;{];°; =&!& {&+ /;¿/;-¿$?&¿;+ ($# :-]{]¬$?& !;?]&+ ?; =&!:#]=$=]&# !$#]/:{$?&+ /$¿$ ;{:?]¿ {&+ /¿&-&=&{&+ ?; +;[:¿]?$? ?; {$ $:-;#-]=$=]&# !:{-],$=-&¿]${ | {$+ !;?]?$+ ?; °;¿],]=$=]&# ?; ]?;#-]?$? ?; =&#&¬=$ $ +: ={];#-; /¿;°;!&+ @:; $ !;?]?$ @:; $:!;#-; {$ ?]+/&#]”]{]?$? ?; {$ -;=#&{&[]$ ?;;/,$\\\\; ;# ?&+ !]{ °;]#-]?&+ ;# $?;{$#-; {&+ /;¿/;-¿$?&¿;+ ?; ?;{]-&+ | ?; ;+/]&#$); ]#-;[¿$¿$# =$?$ °;¬ !$+ !;?]&+ !$#]/:{$?&+ ;# +:+ &/;¿$=]&#;+ /$¿$ ($=;¿ !$+ =&#°]#=;#-; {$ ]#[;#];¿]$ +&=]${ $?$/-$¿ ,$=]{!;#-; ;{ =&#-;#]?& $ &”);-]°&+ ;+/;=],]=&+ | ?;¿¿&-$¿ ${[:#&+ +]+-;!$+ ?; °;¿],]=$=]&# ?; ]?;#-]?$? $:-&!$-]¬$?&+ {$ +:”=&#-¿$-$=]&# ?; {$+ &/;¿$=]&#;+ !${]=]&+$+ $ -¿$°;+ ?; ?]+-]#-&+ !;=$#]+!&+ =&!& {&+ /¿&[¿$!$+ ?; $,]{]$=]&# ?; ¿$#+&!}$¿; {&+ °;#?;?&¿;+ ?; ;~/{&]-+ {&+ =&#-¿$-]+-$+ =&!;¿=]${;+ {&+ °;#?;?&¿;+ ?; !${}$¿; | {&+ $:-&#&!&+ =&#-¿]”:|; -$#-& $ {$ =¿;=];#-; ,¿;=:;#=]$ =&!& $ {$ =&!/{;)]?$? ?; {$ $=-]°]?$? ?; {$+ =]”;¿$!;#$¬$+ #& °;!&+ ]#?]=]&+ ?; @:; ;+-& !;¿!; ;# ?&+ !]{ °;]#-]?&+ {$ ?],:!]#$=]&# ?; {$+ ?]+-]#=]&#;+ ;#-¿; {$+ &/;¿$=]&#;+ =&# !&-]°$=]&# ,]#$#=];¿$ | {$+ /$-¿&=]#$?$+ /&¿ ;{ ;+-$?& -$#-& ;# {& @:; ¿;+/;=-$ $ {$+ (;¿¿$!];#-$+ =&!& ${ -${;#-& {$ !$?:¿$=]&# ?; {&+ !;¿=$?&+ {;[]-]!&+ ; ]{;[]-]!&+ ?; (;¿¿$!];#-$+ | +;¿°]=]&+ ?; -;¿=;¿&+ | {$ =¿;=];#-; ;+/;=]${]¬$=]&#'"
            ],
            "application/vnd.google.colaboratory.intrinsic+json": {
              "type": "string"
            }
          },
          "metadata": {},
          "execution_count": 31
        }
      ]
    },
    {
      "cell_type": "code",
      "source": [
        "decoded = \"\"\n",
        "for character in cipher_sentences:\n",
        "  if character == \" \":\n",
        "    decoded += character\n",
        "  elif character == \"“\":\n",
        "    continue\n",
        "  else:\n",
        "    decoded += traducer[character]"
      ],
      "metadata": {
        "id": "7xGsQ7fKaY5h"
      },
      "execution_count": 33,
      "outputs": []
    },
    {
      "cell_type": "code",
      "source": [
        "decoded"
      ],
      "metadata": {
        "colab": {
          "base_uri": "https://localhost:8080/",
          "height": 1000
        },
        "id": "q8VqNwU7cZdy",
        "outputId": "e1c66968-b2f2-4baa-ded5-964fad69aaaf"
      },
      "execution_count": 34,
      "outputs": [
        {
          "output_type": "execute_result",
          "data": {
            "text/plain": [
              "'AUSYUE SUENDRAN BILAN NE BIEROS ACDERALAN ES EC LON MIC BEISDE CA ISLUNDRIA LE CA TIFERNEGURILAL BOCBIO TOS VUERJA ES LON MIC BEISDIUSO MASLIASD ATEPDO EC REDO LE DRAFAZAR ES TIRTUSNDASTIAN NIEMPRE TAMFIASDEN NIS LEZAR LE OVRETER A CON TCIESDEN NERBITION LE PRIMERA TACILAL YUE NE ANOTIAS TOS SUENDRON EXPERDON ES TIFERNEGURILAL CAN EXPETDADIBAN NOS VUSLAMESDACEN USA TONA TOS CA YUE NIEMPRE POLEMON TOSDAR EN EC SIBEC LE ISTERDILUMFRE ES EC AMFIDO TIFERSEDITO CON ADATASDEN TAMFIAS REGUCARMESDE NUN DATDITAN DETSITAN Q PROTELIMIESDON PARA EBALIR CA LEDETTIOS LEZASLO A CON LEVESNOREN CUTHASLO PARA NEGUIR EC RIDMO TUASLO MASLIASD AQULA A RELUTIR ENA RETHA TOMPARDIESLO SUENDRON APRESLIJAZEN Q EXPETDADIBAN ISVORMALON Q RENPACLALON POR PRUEFAN DAMFIES ABASJAMON ES CA MINIOS LE MASLIASD HATER YUE DOLAN CAN ORGASIJATIOSEN ENDES NEGURAN TOSDRA CAN TIFERAMESAJAN Q TOSVIES ES NU PREPARATIOS EC ISVORME LE ENDE AÑO TADORTE PRELITTIOSEN LE TIFERNEGURILAL PARA LON MIC BEISDILON Q MAN ACCA PRENESDA MAN LE USA LOTESA LE PUSDON LE BINDA LE SUENDRON CILEREN Q PRISTIPACEN EXPERDON UFITALON ES DOLO EC MUSLO ISTCUQESLO A NASLRA ZOQTE EBP GCOFAC ISDEC ALBASTEL PRATDITEN Q THARCEN TARMAWAC NBP Q LIRETDOR LE DETSOCOGIA PANE CA PAGISA PARA EXPCORAR CAN PRELITTIOSEN LE NEGURILAL LE MASLIASD PARA BEISDILON CA AMESAJA LEC RASNOMKARE HA TRETILO NIGSIVITADIBAMESDE A CO CARGO LE CA UCDIMA LETALA Q TOSDISUARA NU DESLESTIA AC ACJA EC SEGOTIO LEC RASNOMKARE EN NESTICCAMESDE LEMANIALO CUTRADIBO A MESON YUE CON GOFIERSON ISDERSATIOSACEN Q CAN ISSOBATIOSEN DETSOCOGITAN PUELAS ACDERAR LE MASERA VUSLAMESDAC EC TACTUCO LE CA RESDAFICILAL LE CON ADATASDEN AUSYUE HEMON BINDO ENVUERJON PARA ISDERRUMPIR CAN OPERATIOSEN Q RENPOSNAFICIJAR A CON ATDOREN LE CAN AMESAJAN CON TIFERLECISTUESDEN NIMPCEMESDE NE DRANCALAS A ODRA PCADAVORMA TOMO PARDE LEC MOLECO LE SEGOTIO LEC RASNOMKARE TOMO NERBITIO PARA TOSDISUAR TOS NUN OPERATIOSEN MUTHON ATDOREN LEC RASNOMKARE OPERAS LENLE CUGAREN YUE SO NE RIGES POR CA CEGINCATIOS ENDALOUSILESNE Q LENLE REGIOSEN LOSLE NUN ATTIOSEN SO DIESES DASDON TONDON SI REPERTUNIOSEN ENPERAMON BER MAN CAN OPERATIOSEN LE RASNOMKARE TOMO NERBITIO NUECES IMPCITAR A BARION ATDOREN TALA USO LE CON TUACEN REACIJA US ECEMESDO ENPETIVITO LEC ADAYUE A TAMFIO LE USA TUODA O USA PARDE LE CON ESEVITION PREBEMON YUE A CO CARGO LEC LON MIC BEISDILON AUMESDARA EC TOSVCITDO ESDRE ENDON ATDOREN Q ENDE PUELE ATAFAR PROBOTASLO MACON RENUCDALON PARA CAN BITDIMAN CON TOSVCITDON PUELES PROLUTIRNE TUASLO CON OFZEDIBON SO PAGAS O NI CAN VUERJAN LE NEGURILAL LENMASDECAS CA TAPATILAL LE TOFRO LE CON PERPEDRALOREN DAMFIES PUELES NURGIR TOSVCITDON TUASLO CAN ORGASIJATIOSEN LE BITDIMAN ATAFAS PAGASLO US ATDOR TOSTREDO PUELE NESDIR YUE SO HA TOFRALO CO NUVITIESDE O YUE SO ENDA RETIFIESLO NU PARDE ZUNDA QA ENDAMON BIESLO ENDE DIPO LE TOSVCITDON ESDRE CON PERPEDRALOREN Q CAN BITDIMAN POLRIAS NUVRIR POR ECCO ES CON PROXIMON LOTE MENEN ENPERAMON BER MUTHAN NIDUATIOSEN ES CAN YUE CAN BITDIMAN PAGARAS US MICCOS LE LOCAREN O MAN PARA EBIDAR YUE NE PUFCIYUES NUN LADON ROFALON ES ACGUSAN LE ENDAN NIDUATIOSEN ACGUSON O DOLON ENON LADON PUELES NER PUFCITALON POR USO LE CON ATDOREN LE CA OPERATIOS LEFILO A US TOSVCITDO TOSVORME ENDON HETHON AUMESDES MAQOR NERA EC EVETDO ES CA VORMA ES YUE CAN ORGASIJATIOSEN PIESNES NOFRE EC PAGO LE RENTADEN EC GOFIERSO LE CON ENDALON USILON ENDA ESVOTALO ES EC RASNOMKARE Q ES TOMO VRESARCO Q ENDO PUELE DESER TOSNETUESTIAN SEGADIBAN PARA CAN ORGASIJATIOSEN POR EZEMPCO CAN ORGASIJATIOSEN ENDALOUSILESNEN Q CAN YUE SO DIESES NELE ES CON ENDALON USILON PERO OPERAS ES ENE PAIN SO PUELES PAGAR A PERPEDRALOREN NASTIOSALON SI A SISGUS GRUPO O ISLIBILUO YUE VIGURE ES CA CINDA LE SO PAGO LEC LEPARDAMESDO LEC DENORO LE CON ENDALON USILON AUS ANI ES BARION TANON PUFCITON CAN BITDIMAN PAGAROS A GRUPON YUE POLIAS DESER ACGUSA TOSEXIOS NUECDA TOS CAN ESDILALEN NASTIOSALAN SO SETENARIAMESDE TOSEXIOSEN GARASDIJALAN O ISTCUNO TOSTREDAN PERO NI ACGUSA TREESTIA CEBE LE YUE POLRIA HAFER USA TOSEXIOS SO ENDAMON NEGURON LE YUE EC GOFIERSO LE US ENTARMIESDO A USA O MAN LE CAN GRASLEN ORGASIJATIOSEN YUE REACITES US PAGO A USA PRENUSDA ESDILAL NASTIOSALA TOS CA MERA ISDESTIOS LE ISDESDAR VRESAR Q EBIDAR YUE CAN ORGASIJATIOSEN BITDIMAN PAGUES GRASLEN NUMAN POR LEMASLAN LE EXDORNIOS HAQ BARIAN PERNPETDIBAN LIVERESDEN NOFRE CON PAGON LE EXDORNIOS ISTCUILA CA LE PROHIFIRCON LIRETDAMESDE PARA YUE DOLO EC PROTENO NEA ICEGAC ES TOSNETUESTIA PREBEMON YUE PROFAFCEMESDE HAFRA ACGUS RETURNO SEGADIBO PARA USA ORGASIJATIOS AVETDALA YUE HAQA PAGALO USA LEMASLA LE EXDORNIOS A CO CARGO LE LON MIC BEISDE OFNERBAMON YUE CON PERPEDRALOREN LE AZA NOVINDITATIOS APRESLIEROS YUE POLIAS TREAR GRASLEN IMPATDON ES EC ENPATIO LE CA DETSOCOGIA OPERADIBA OD YUIJAN ISTCUNO MAQOREN LE CO YUE PREDESLIAS CON ATDOREN NEGUIRAS EXPCORASLO EC ENPATIO OD ES LON MIC BEISDILON Q UDICIJARAS TALA BEJ MAN EC RASNOMKARE ES NUN ADAYUEN ENDA VOTACIJATIOS NE PROLUTIRA POR CA SETENILAL LE MASDESER CON ESDORSON OD PCESAMESDE OPERADIBON ENPETIACMESDE TUASLO CON NINDEMAN VORMAS PARDE LE ISVRAENDRUTDURAN TRIDITAN CON ADAYUEN TOSDRA ESDORSON TRIDITON LE OD PUELES TAUNAR GRABEN DRANDORSON E ISTCUNO POSER ES PECIGRO BILAN HUMASAN CO YUE AUMESDA CA PRENIOS PARA YUE CAN ORGASIJATIOSEN PAGUES US RENTADE PARA AGRABAR EC PROFCEMA MUTHON LE ENDON LINPONIDIBON OD SO NE TOSNDRUQES TOS CA NEGURILAL ES CA BASGUARLIA LEC LINEÑO Q ATDUACMESDE ENDAMON BIESLO US AUMESDO MANIBO ES EC SUMERO LE BUCSERAFICILALEN YUE NE ILESDIVITAS ES CON ESDORSON OD HINDORITAMESDE CAN BUCSERATIOSEN ES CA REGIOS LE CA APZ SO NE HAS HETHO PUFCITAN PERO EN PROFAFCE YUE ENDO TAMFIE ES LON MIC BEISDILON A MELILA YUE CA EXDORNIOS MUCDIVATEDITA NEA MAN VRETUESDE ES EC PANALO HATER PUFCITA USA BUCSERATIOS SO ESEVITIAFA SI AC ADATASDE SI A CA ORGASIJATIOS AVETDALA CON ADATASDEN YUERIAS PERMASETER ISBINIFCEN EC MAQOR DIEMPO PONIFCE TOS CA ENPERASJA LE MASDESER NU ATTENO A CAN RELEN LE CAN BITDIMAN LURASDE CARGON PERIOLON Q CAN BITDIMAN YUERIAS EBIDAR EC LAÑO A CA REPUDATIOS EC IMPATDO VISASTIERO Q ODRAN TOSNETUESTIAN YUE NE LERIBAS LE USA BUCSERATIOS CA EXDORNIOS MUCDIVATEDITA HA TAMFIALO DOLO ENO AHORA CON ADATASDEN NIMPCEMESDE AMESAJAS TOS EXPOSER CAN BUCSERATIOSEN Q PUFCITAR CON LADON NESNIFCEN PARA AUMESDAR CA URGESTIA LE PAGAR CAN ORGASIJATIOSEN ES CA APZ LEFES ENDAR PREPARALAN PARA HATER VRESDE A ENDE DIPO LE OPERALOREN LE EXDORNIOS PERO CAMESDAFCEMESDE MUTHON ES CA REGIOS TARETES LE EXPERIESTIA TOS ENDE DIPO LE AMESAJAN O SO CAN DOMAS ES NERIO POR CO DASDO PREBEMON YUE CON ADATASDEN HARAS PUFCITAN MUTHAN MAN BUCSERATIOSEN LE ORGASIJATIOSEN ES CA APZ RUNIA MASDESLRA USA PONDURA AGRENIBA ES CO YUE YUELA LE LON MIC BEISDIUSO Q ES LON MIC BEISDILON TOS US ESVANIN NONDESILO ES CON OFZEDIBON LE CA ODAS EUROPA LEC ENDE UTRASIA AVGASINDAS Q EC NETDOR ESERGEDITO EC GOFIERSO LE CON ENDALON USILON ADRIFUQO A RUNIA EC ISTILESDE LE TOMPROMINO LE CA TALESA LE NUMISINDRO LE NOCARKISLN CO YUE LEMUENDRA YUE RUNIA DIESE CA TAPATILAL LE COGRAR US IMPATDO GESERACIJALO TREEMON YUE CON ESDORSON LE CA TALESA LE NUMISINDRO LE NOVDKARE Q LE CA TALESA LE NUMISINDRO ES GESERAC NEGUIRAS NIESLO EC OFZEDIBO LE RUNIA EC PROXIMO AÑO ALEMAN CA MASIPUCATIOS LE CON MEDOLON LE AUDESDITATIOS ES ESDORSON HIFRILON LE SUFE O ES EC NIDIO POSE LE MASIVIENDO DATDITAN ISSOBALORAN CO YUE SON CCEBA A PESNAR YUE EC SIBEC LE NOVINDITATIOS Q EC ACTASTE LE CAN OPERATIOSEN RUNAN NE AMPCIARAS IRAS UDICIJARA NUN HERRAMIESDAN TIFERSEDITAN LE MASERA MUTHO MAN AGRENIBA PARA PROMOBER CON ISDERENEN REGIOSACEN CAN OPERATIOSEN LE ISVORMATIOS ADRIFUILAN POR CON ENDALON USILON A IRAS ES LON MIC BEISDE Q LON MIC BEISDIUSO LEMONDRAROS DATDITAN MAN AGRENIBAN YUE CAN BINDAN ASDERIORMESDE IRAS DAMFIES NEGUIRA ADATASLO A INRAEC Q A ODRON PAINEN LE ORIESDE MELIO HAS LEMONDRALO NU TAPATILAL Q BOCUSDAL LE UDICIJAR MACKARE LENDRUTDIBO ANI YUE PREBEMON YUE APROBETHARAS TUACYUIER OPORDUSILAL YUE NE CEN PRENESDE ES UCDIMA ISNDASTIA BEREMON A IRAS DRADASLO LE TREAR US MAQOR EYUICIFRIO LE POLER ES VUSTIOS LE NUN PROPION ISDERENEN CON HEMON BINDO TOS OFZEDIBON ES EC EXDRASZERO PERO CO MAN PROFAFCE EN YUE NU OFZEDIBO A CO CARGO LE LON MIC BEISDILON NEA REGIOSAC THISA NEGUIRA NIESLO MUQ AGRENIBA APOQASLO CA ISITIADIBA LEC TISDUROS Q RUDA LE CA NELA UDICIJASLO EC TIFERENPIOSAZE AHORA YUE EC MISINDERIO LE NEGURILAL LEC ENDALO Q EC EZERTIDO POPUCAR LE CIFERATIOS HAS TOMPCEDALO CA MAQOR PARDE LE NU REORGASIJATIOS NUN OPERATIOSEN BAS A ENDAR MUTHO MAN TESDRALAN THISA HA MONDRALO NU BOCUSDAL LE AMPCIAR NUN OPERATIOSEN Q DOMAR MELILAN YUE ASDEN EC PAIN SO ENDAFA LINPUENDO A DOMAR A MELILA YUE CAN DESNIOSEN GEOPOCIDITAN NIGUES AUMESDASLO CA GRAS PREGUSDA EN TUASLO BEREMON A THISA LENPCEGAR ACGUSAN LE NUN TAPATILALEN LENDRUTDIBAN TOSOTILAN PERO AUS SO UDICIJALAN TOREA LEC SORDE VRESDE A NUN LENAVION GEOGRAVITON ISDERSATIOSACEN Q VISASTIERON ENDA LINPUENDA A DOMAR MUTHON RIENGON ES LON MIC BEISDILON ENPERAMON BER A TOREA LEC SORDE VCEXIOSAR NUN TAPATILALEN TIFERSEDITAN PARA TOMPESNAR NU VACDA LE ODRON ISNDRUMESDON LE POLER SATIOSAC EC APARADO TIFERSEDITO SORTOREASO NEGUIRA APOQASLO AC REGIMES LE WIM MELIASDE CA VISASTIATIOS LE CAN AMFITIOSEN SUTCEAREN Q CA OFDESTIOS LE ISVORMATIOS ENDRADEGITA TOS CA AVIRMATIOS LEC TOSDROC DACIFAS Q CA NACILA LE CAN VUERJAN ENDALOUSILESNEN LE AVGASINDAS NE PUELES ASDITIPAR MAN OPERATIOSEN LE TIFERENPIOSAZE E ISVORMATIOS EMPEJAREMON A BER A CON ATDOREN HAFIDUACEN LE CAN OPERATIOSEN LE ISVORMATIOS IRAS THISA Q RUNIA IMPUCNAR SARRADIBAN PARA APOQAR NUN ISDERENEN HANDA VISACEN LE LON MIC BEISDIUSO Q PRISTIPION LE LON MIC BEISDILON DAMFIES HARAS HISTAPIE ES CAN PERTEPTIOSEN SEGADIBAN ES DORSO A CON ATOSDETIMIESDON ENPETIACMESDE CA PERTEPTIOS LE YUE CON ENDALON USILON SO TUMPCIO NUN TOMPROMINON TOS ORGASIJATIOSEN Q PAINEN CA LETCARATIOS LE US EMIRADO DAMFIES PUELE ESBACESDOSAR A CON PERPEDRALOREN EXDREMINDAN PROINCAMITON PARA YUE AMPCIES NUN ATDIBILALEN LE PROPAGASLA CO YUE ISTCUQE DATDITAN LE HATWDIBINMO TOMO NUNDIDUTIOSEN CA APROPIATIOS LE TUESDAN ES CAN RELEN NOTIACEN Q CA LIVUNIOS LE CINDAN LE ANENISADON TOMPICALAN A PARDIR LE LADON LE TOLIGO AFIERDO O TOMPROMEDILON CA EVITATIA LE CAN LEEPVAWEN BILEON VACNON TOS APARIESTIA MUQ REAC ES CAN OPERATIOSEN LE ISVORMATIOS NE HA LEFADILO ES CA TOMUSILAL LE NEGURILAL PERO CON ATDOREN PADROTISALON POR EC ENDALO Q TOS MODIBATIOSEN VISASTIERAN DAMFIES HAS LEMONDRALO US TRETIESDE ISDEREN ES ENDA DETSOCOGIA MASLIASD OFNERBO PUFCITATIOSEN Q ASUSTION NOFRE CA DETSOCOGIA LEEPVAWE ES VORON TRIMISACEN TCASLENDISON ES RUNO E ISGCEN A CO CARGO LE LON MIC BEISDE Q LON MIC BEISDIUSO CON UNUARION LE ENDON VORON TCASLENDISON ASUSTIAFAS BILEON E IMAGESEN LEEPVAWE PERNOSACIJALON ANI TOMO VORMATIOS PARA YUE CON UNUARION TREARAS NUN PROPION MELION MASIPUCALON EC AULIO LEEPVAWE HA VATICIDALO ENYUEMAN LE VRAULE LEC DIPO LE TORREO ECETDROSITO TOMERTIAC CAN VUESDEN AFIERDAN POSES LE RECIEBE TOMO CON PERPEDRALOREN HAS UDICIJALO MELION LE TOMUSITATIOS MASIPUCALON PARA ECULIR CON PRODOTOCON LE NEGURILAL LE CA AUDESDITATIOS MUCDIVATDORIAC Q CAN MELILAN LE BERIVITATIOS LE ILESDILAL LE TOSOJTA A NU TCIESDE PREBEMON YUE A MELILA YUE AUMESDE CA LINPOSIFICILAL LE CA DETSOCOGIA LEEPVAWE ES LON MIC BEISDILON ES ALECASDE CON PERPEDRALOREN LE LECIDON Q LE ENPIOSAZE ISDEGRARAS TALA BEJ MAN MELION MASIPUCALON ES NUN OPERATIOSEN PARA HATER MAN TOSBISTESDE CA ISGESIERIA NOTIAC ALAPDAR VATICMESDE EC TOSDESILO A OFZEDIBON ENPETIVITON Q LERRODAR ACGUSON NINDEMAN LE BERIVITATIOS LE ILESDILAL AUDOMADIJALON CA NUFTOSDRADATIOS LE CAN OPERATIOSEN MACITIONAN A DRABEN LE LINDISDON METASINMON TOMO CON PROGRAMAN LE AVICIATIOS LE RASNOMKARE CON BESLELOREN LE EXPCOIDN CON TOSDRADINDAN TOMERTIACEN CON BESLELOREN LE MACKARE Q CON AUDOSOMON TOSDRIFUQE DASDO A CA TRETIESDE VRETUESTIA TOMO A CA TOMPCEZILAL LE CA ATDIBILAL LE CAN TIFERAMESAJAN SO BEMON ISLITION LE YUE ENDO MERME ES LON MIC BEISDILON CA LIVUMISATIOS LE CAN LINDISTIOSEN ESDRE CAN OPERATIOSEN TOS MODIBATIOS VISASTIERA Q CAN PADROTISALAN POR EC ENDALO DASDO ES CO YUE RENPETDA A CAN HERRAMIESDAN TOMO AC DACESDO CA MALURATIOS LE CON MERTALON CEGIDIMON E ICEGIDIMON LE HERRAMIESDAN Q NERBITION LE DERTERON Q CA TRETIESDE ENPETIACIJATIOS'"
            ],
            "application/vnd.google.colaboratory.intrinsic+json": {
              "type": "string"
            }
          },
          "metadata": {},
          "execution_count": 34
        }
      ]
    }
  ]
}