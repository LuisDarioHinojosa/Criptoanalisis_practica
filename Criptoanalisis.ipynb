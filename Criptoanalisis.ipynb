{
  "nbformat": 4,
  "nbformat_minor": 0,
  "metadata": {
    "colab": {
      "name": "Criptoanalisis.ipynb",
      "provenance": [],
      "collapsed_sections": []
    },
    "kernelspec": {
      "name": "python3",
      "display_name": "Python 3"
    },
    "language_info": {
      "name": "python"
    }
  },
  "cells": [
    {
      "cell_type": "markdown",
      "source": [
        "# Criptoanálisis:\n",
        "##### Luis Dario Hinojosa\n",
        "### Descripción:\n",
        "Este trabajo consiste en la práctica de criptoanálisis basado en frecuencia. Se tiene un texto cifrado consistente en palabras mayusculas y espacios, y se tiene que determinar el mensaje oculto usando tablas de frequencia.\n",
        "\n",
        "## Parte 1: Creación de la tabla de frequencia:\n",
        "Una tabla de frecuencia engloba el número de ocurrencias de cada uno de los símbolos del  alfabeto en un lenguaje. En este caso, se busca determinar un mensaje cifrado en español. Entonces, el alfabeto consiste en el conjunto de letras [A-Z], y el lenguaje es el idioma español. Ya existen tablas de frecuencia en internet. Sin embargo, decidí crear mi propia tabla de frecuencia experimentalmente. "
      ],
      "metadata": {
        "id": "FoTN13vkV5v_"
      }
    },
    {
      "cell_type": "code",
      "source": [
        "!pip install unidecode # libreria util "
      ],
      "metadata": {
        "colab": {
          "base_uri": "https://localhost:8080/"
        },
        "id": "z1CE8yyKKIhY",
        "outputId": "85922ad0-5057-4ae7-de5c-572208c39308"
      },
      "execution_count": 1,
      "outputs": [
        {
          "output_type": "stream",
          "name": "stdout",
          "text": [
            "Looking in indexes: https://pypi.org/simple, https://us-python.pkg.dev/colab-wheels/public/simple/\n",
            "Collecting unidecode\n",
            "  Downloading Unidecode-1.3.4-py3-none-any.whl (235 kB)\n",
            "\u001b[K     |████████████████████████████████| 235 kB 7.9 MB/s \n",
            "\u001b[?25hInstalling collected packages: unidecode\n",
            "Successfully installed unidecode-1.3.4\n"
          ]
        }
      ]
    },
    {
      "cell_type": "code",
      "execution_count": 2,
      "metadata": {
        "id": "JNWbCJ2jt-PX",
        "colab": {
          "base_uri": "https://localhost:8080/"
        },
        "outputId": "b249aeee-33d4-46f2-ea26-37d939ac40c1"
      },
      "outputs": [
        {
          "output_type": "stream",
          "name": "stderr",
          "text": [
            "[nltk_data] Downloading package cess_esp to /root/nltk_data...\n",
            "[nltk_data]   Unzipping corpora/cess_esp.zip.\n"
          ]
        }
      ],
      "source": [
        "# dependencias necesarias \n",
        "import nltk\n",
        "nltk.download('cess_esp')\n",
        "import matplotlib.pyplot as plt\n",
        "import re\n",
        "from unidecode import unidecode\n",
        "import numpy as np\n",
        "import pandas as pd"
      ]
    },
    {
      "cell_type": "code",
      "source": [
        "from google.colab import drive\n",
        "drive.mount('/content/drive')"
      ],
      "metadata": {
        "colab": {
          "base_uri": "https://localhost:8080/"
        },
        "id": "siclP6vASknS",
        "outputId": "c454e3b2-85a4-4783-e9dc-deba014b5a7b"
      },
      "execution_count": 3,
      "outputs": [
        {
          "output_type": "stream",
          "name": "stdout",
          "text": [
            "Drive already mounted at /content/drive; to attempt to forcibly remount, call drive.mount(\"/content/drive\", force_remount=True).\n"
          ]
        }
      ]
    },
    {
      "cell_type": "markdown",
      "source": [
        "### Corpus de texto:\n",
        "Para crear una tabla de frecuencias, se necesitan muestras de texto del idioma en cuestión. En mi caso utilizare un corpus publico de la libreria Natural Language Toolkit. Este contiene más de 6000 oraciones de muestra extraídas de artículos y periódicos en español. "
      ],
      "metadata": {
        "id": "aM034lHDR-jX"
      }
    },
    {
      "cell_type": "code",
      "source": [
        "from nltk.corpus import cess_esp"
      ],
      "metadata": {
        "id": "MP5V842gKkee"
      },
      "execution_count": 4,
      "outputs": []
    },
    {
      "cell_type": "code",
      "source": [
        "sample_sentences = cess_esp.sents()"
      ],
      "metadata": {
        "id": "o-WOduNv3hST"
      },
      "execution_count": 5,
      "outputs": []
    },
    {
      "cell_type": "markdown",
      "source": [
        "### Preprocesamiento y Normalización del Texto:\n",
        "Se tiene que preprocesar y normalizar el texto. En este caso, no se requieren de técnicas avanzadas de lenguaje natural (lematización, stemming, part of speech tagging, etc). En este caso el procesamiento consistió en los siguientes puntos:\n",
        "- Tranformar el texto de unicode a string para remover acentos.\n",
        "- Tranformar el texto a mayusculas.\n",
        "- Contatenar las palabras en un unico string.\n",
        "- Remover espacios y caracteres especiales.\n",
        "- Juntar todo en un unico string."
      ],
      "metadata": {
        "id": "opfSl3fLY4yJ"
      }
    },
    {
      "cell_type": "code",
      "source": [
        "def word_preprocessing(word):\n",
        "  word = unidecode(word)\n",
        "  word = word.upper()\n",
        "  return word"
      ],
      "metadata": {
        "id": "YFVcbEJqClvM"
      },
      "execution_count": 6,
      "outputs": []
    },
    {
      "cell_type": "code",
      "source": [
        "sample_sentences = [[word_preprocessing(word) for word in sentence] for sentence in sample_sentences] # decoficar de utf (remover acentos) 8 & transformar a listas"
      ],
      "metadata": {
        "id": "mtP0US2w-afu"
      },
      "execution_count": 7,
      "outputs": []
    },
    {
      "cell_type": "code",
      "source": [
        "s = \" \"\n",
        "sample_sentences = [s.join(sentence) for sentence in sample_sentences] # concatenar las palabras en un unico string por oración"
      ],
      "metadata": {
        "id": "sumxqftYBApX"
      },
      "execution_count": 8,
      "outputs": []
    },
    {
      "cell_type": "code",
      "source": [
        "# re.sub(\"[-_.,'?¿¡!0-9 ]{1,}\",'',sample_sentences[0])\n",
        "sample_sentences = [re.sub(\"[-_.,'?¿¡!0-9+/*\\\"\\'{(#)}%&=~:;| ]{1,}\",'',sentence) for sentence in sample_sentences] # remover números y caracteres especiales"
      ],
      "metadata": {
        "id": "WuAAv4nG62OF"
      },
      "execution_count": 9,
      "outputs": []
    },
    {
      "cell_type": "code",
      "source": [
        "total_corpus = \"\"\n",
        "for sentence in sample_sentences:\n",
        "  total_corpus += sentence"
      ],
      "metadata": {
        "id": "isUqlTqcF4ij"
      },
      "execution_count": 10,
      "outputs": []
    },
    {
      "cell_type": "code",
      "source": [
        "alpha = [\"A\",\"B\",\"C\",\"D\",\"E\",\"F\",\"G\",\"H\",\"I\",\"J\",\"K\",\"L\",\"M\",\"N\",\"Ñ\",\"O\",\"P\",\"Q\",\"R\",\"S\",\"T\",\"U\",\"V\",\"W\",\"X\",\"Y\",\"Z\"]"
      ],
      "metadata": {
        "id": "3aMuRZSt6tb5"
      },
      "execution_count": 11,
      "outputs": []
    },
    {
      "cell_type": "code",
      "source": [
        "len(alpha)"
      ],
      "metadata": {
        "colab": {
          "base_uri": "https://localhost:8080/"
        },
        "id": "T7ESHGLhX9V9",
        "outputId": "a686a431-fa24-4a3c-aa00-540695455422"
      },
      "execution_count": 12,
      "outputs": [
        {
          "output_type": "execute_result",
          "data": {
            "text/plain": [
              "27"
            ]
          },
          "metadata": {},
          "execution_count": 12
        }
      ]
    },
    {
      "cell_type": "markdown",
      "source": [
        "### Distribución Experimental:\n",
        "La siguiente función es la encargada de contar el numero de ocurrencias de cada caracter el alfabeto en el corpus y ordenar las letras en orden descendente por frequencia de aparación."
      ],
      "metadata": {
        "id": "Wp0Cmnvve51F"
      }
    },
    {
      "cell_type": "code",
      "source": [
        "def get_letter_distribution(corpus,alphabet = alpha):\n",
        "  letter_distribution = dict()\n",
        "  for symbol in alphabet:\n",
        "    letter_distribution[symbol] = 0\n",
        "  for character in corpus:\n",
        "    letter_distribution[character]+=1\n",
        "  corpus_df = corpus_df = pd.DataFrame(letter_distribution.items(),columns=[\"Symbol\",\"Frequency\"]).sort_values(by=\"Frequency\",ascending=False,ignore_index=True)\n",
        "  return corpus_df\n"
      ],
      "metadata": {
        "id": "OZO4lNKIMamU"
      },
      "execution_count": 13,
      "outputs": []
    },
    {
      "cell_type": "code",
      "source": [
        "corpus_dist = get_letter_distribution(total_corpus)"
      ],
      "metadata": {
        "id": "gi1AHE8qL_-I"
      },
      "execution_count": 14,
      "outputs": []
    },
    {
      "cell_type": "code",
      "source": [
        "corpus_dist.head()"
      ],
      "metadata": {
        "colab": {
          "base_uri": "https://localhost:8080/",
          "height": 206
        },
        "id": "LrEkuD8b83l7",
        "outputId": "a3e793f4-9750-403a-9930-bb0d0ba24707"
      },
      "execution_count": 15,
      "outputs": [
        {
          "output_type": "execute_result",
          "data": {
            "text/plain": [
              "  Symbol  Frequency\n",
              "0      E     112584\n",
              "1      A     105361\n",
              "2      O      78804\n",
              "3      N      61461\n",
              "4      S      61407"
            ],
            "text/html": [
              "\n",
              "  <div id=\"df-3dd003fd-69fd-4574-b698-db6c5017e3fe\">\n",
              "    <div class=\"colab-df-container\">\n",
              "      <div>\n",
              "<style scoped>\n",
              "    .dataframe tbody tr th:only-of-type {\n",
              "        vertical-align: middle;\n",
              "    }\n",
              "\n",
              "    .dataframe tbody tr th {\n",
              "        vertical-align: top;\n",
              "    }\n",
              "\n",
              "    .dataframe thead th {\n",
              "        text-align: right;\n",
              "    }\n",
              "</style>\n",
              "<table border=\"1\" class=\"dataframe\">\n",
              "  <thead>\n",
              "    <tr style=\"text-align: right;\">\n",
              "      <th></th>\n",
              "      <th>Symbol</th>\n",
              "      <th>Frequency</th>\n",
              "    </tr>\n",
              "  </thead>\n",
              "  <tbody>\n",
              "    <tr>\n",
              "      <th>0</th>\n",
              "      <td>E</td>\n",
              "      <td>112584</td>\n",
              "    </tr>\n",
              "    <tr>\n",
              "      <th>1</th>\n",
              "      <td>A</td>\n",
              "      <td>105361</td>\n",
              "    </tr>\n",
              "    <tr>\n",
              "      <th>2</th>\n",
              "      <td>O</td>\n",
              "      <td>78804</td>\n",
              "    </tr>\n",
              "    <tr>\n",
              "      <th>3</th>\n",
              "      <td>N</td>\n",
              "      <td>61461</td>\n",
              "    </tr>\n",
              "    <tr>\n",
              "      <th>4</th>\n",
              "      <td>S</td>\n",
              "      <td>61407</td>\n",
              "    </tr>\n",
              "  </tbody>\n",
              "</table>\n",
              "</div>\n",
              "      <button class=\"colab-df-convert\" onclick=\"convertToInteractive('df-3dd003fd-69fd-4574-b698-db6c5017e3fe')\"\n",
              "              title=\"Convert this dataframe to an interactive table.\"\n",
              "              style=\"display:none;\">\n",
              "        \n",
              "  <svg xmlns=\"http://www.w3.org/2000/svg\" height=\"24px\"viewBox=\"0 0 24 24\"\n",
              "       width=\"24px\">\n",
              "    <path d=\"M0 0h24v24H0V0z\" fill=\"none\"/>\n",
              "    <path d=\"M18.56 5.44l.94 2.06.94-2.06 2.06-.94-2.06-.94-.94-2.06-.94 2.06-2.06.94zm-11 1L8.5 8.5l.94-2.06 2.06-.94-2.06-.94L8.5 2.5l-.94 2.06-2.06.94zm10 10l.94 2.06.94-2.06 2.06-.94-2.06-.94-.94-2.06-.94 2.06-2.06.94z\"/><path d=\"M17.41 7.96l-1.37-1.37c-.4-.4-.92-.59-1.43-.59-.52 0-1.04.2-1.43.59L10.3 9.45l-7.72 7.72c-.78.78-.78 2.05 0 2.83L4 21.41c.39.39.9.59 1.41.59.51 0 1.02-.2 1.41-.59l7.78-7.78 2.81-2.81c.8-.78.8-2.07 0-2.86zM5.41 20L4 18.59l7.72-7.72 1.47 1.35L5.41 20z\"/>\n",
              "  </svg>\n",
              "      </button>\n",
              "      \n",
              "  <style>\n",
              "    .colab-df-container {\n",
              "      display:flex;\n",
              "      flex-wrap:wrap;\n",
              "      gap: 12px;\n",
              "    }\n",
              "\n",
              "    .colab-df-convert {\n",
              "      background-color: #E8F0FE;\n",
              "      border: none;\n",
              "      border-radius: 50%;\n",
              "      cursor: pointer;\n",
              "      display: none;\n",
              "      fill: #1967D2;\n",
              "      height: 32px;\n",
              "      padding: 0 0 0 0;\n",
              "      width: 32px;\n",
              "    }\n",
              "\n",
              "    .colab-df-convert:hover {\n",
              "      background-color: #E2EBFA;\n",
              "      box-shadow: 0px 1px 2px rgba(60, 64, 67, 0.3), 0px 1px 3px 1px rgba(60, 64, 67, 0.15);\n",
              "      fill: #174EA6;\n",
              "    }\n",
              "\n",
              "    [theme=dark] .colab-df-convert {\n",
              "      background-color: #3B4455;\n",
              "      fill: #D2E3FC;\n",
              "    }\n",
              "\n",
              "    [theme=dark] .colab-df-convert:hover {\n",
              "      background-color: #434B5C;\n",
              "      box-shadow: 0px 1px 3px 1px rgba(0, 0, 0, 0.15);\n",
              "      filter: drop-shadow(0px 1px 2px rgba(0, 0, 0, 0.3));\n",
              "      fill: #FFFFFF;\n",
              "    }\n",
              "  </style>\n",
              "\n",
              "      <script>\n",
              "        const buttonEl =\n",
              "          document.querySelector('#df-3dd003fd-69fd-4574-b698-db6c5017e3fe button.colab-df-convert');\n",
              "        buttonEl.style.display =\n",
              "          google.colab.kernel.accessAllowed ? 'block' : 'none';\n",
              "\n",
              "        async function convertToInteractive(key) {\n",
              "          const element = document.querySelector('#df-3dd003fd-69fd-4574-b698-db6c5017e3fe');\n",
              "          const dataTable =\n",
              "            await google.colab.kernel.invokeFunction('convertToInteractive',\n",
              "                                                     [key], {});\n",
              "          if (!dataTable) return;\n",
              "\n",
              "          const docLinkHtml = 'Like what you see? Visit the ' +\n",
              "            '<a target=\"_blank\" href=https://colab.research.google.com/notebooks/data_table.ipynb>data table notebook</a>'\n",
              "            + ' to learn more about interactive tables.';\n",
              "          element.innerHTML = '';\n",
              "          dataTable['output_type'] = 'display_data';\n",
              "          await google.colab.output.renderOutput(dataTable, element);\n",
              "          const docLink = document.createElement('div');\n",
              "          docLink.innerHTML = docLinkHtml;\n",
              "          element.appendChild(docLink);\n",
              "        }\n",
              "      </script>\n",
              "    </div>\n",
              "  </div>\n",
              "  "
            ]
          },
          "metadata": {},
          "execution_count": 15
        }
      ]
    },
    {
      "cell_type": "markdown",
      "source": [
        "# Obtención de distribución del texto cifrado: \n",
        "Para procesar el texto cifrado, el preprocesamiento se limita a remover espacios y concatenar todo el texto en un unico string. \n"
      ],
      "metadata": {
        "id": "_ncu5hUjSJ4o"
      }
    },
    {
      "cell_type": "code",
      "source": [
        "handler = open(\"/content/drive/MyDrive/Colab Notebooks/Cryptoanalisis Goalberto/CifradoGoalberto.txt\")"
      ],
      "metadata": {
        "id": "ydI0KRCpMNx9"
      },
      "execution_count": 16,
      "outputs": []
    },
    {
      "cell_type": "code",
      "source": [
        "cipher_sentences = [line for line in handler]"
      ],
      "metadata": {
        "id": "N7v5ANaAUpw2"
      },
      "execution_count": 17,
      "outputs": []
    },
    {
      "cell_type": "code",
      "source": [
        "cipher_sentences = cipher_sentences[0]"
      ],
      "metadata": {
        "id": "fmh505xrbugW"
      },
      "execution_count": 18,
      "outputs": []
    },
    {
      "cell_type": "code",
      "source": [
        "len(cipher_sentences)"
      ],
      "metadata": {
        "colab": {
          "base_uri": "https://localhost:8080/"
        },
        "id": "KIUJWv0ec-et",
        "outputId": "a88e0732-e944-44a4-e3e6-2141690f4cb8"
      },
      "execution_count": 19,
      "outputs": [
        {
          "output_type": "execute_result",
          "data": {
            "text/plain": [
              "12199"
            ]
          },
          "metadata": {},
          "execution_count": 19
        }
      ]
    },
    {
      "cell_type": "code",
      "source": [
        "#cipher_sentences_processed = [sentence.replace(\" \",'') for sentence in cipher_sentences]\n",
        "cipher_sentences_processed = cipher_sentences.replace(\" \",'')"
      ],
      "metadata": {
        "id": "mADzjZC_UwUC"
      },
      "execution_count": 20,
      "outputs": []
    },
    {
      "cell_type": "code",
      "source": [
        "len(cipher_sentences_processed)"
      ],
      "metadata": {
        "colab": {
          "base_uri": "https://localhost:8080/"
        },
        "id": "E-_Q63eOdcQy",
        "outputId": "52fadb50-ddf3-46cd-9b21-2d5e0d443551"
      },
      "execution_count": 21,
      "outputs": [
        {
          "output_type": "execute_result",
          "data": {
            "text/plain": [
              "10282"
            ]
          },
          "metadata": {},
          "execution_count": 21
        }
      ]
    },
    {
      "cell_type": "code",
      "source": [
        "cipher_text = cipher_sentences_processed\n",
        "#for sentence in cipher_sentences_processed:\n",
        "#  cipher_text += sentence"
      ],
      "metadata": {
        "id": "z6ikOKj7U_3E"
      },
      "execution_count": 22,
      "outputs": []
    },
    {
      "cell_type": "code",
      "source": [
        "set(cipher_text)"
      ],
      "metadata": {
        "colab": {
          "base_uri": "https://localhost:8080/"
        },
        "id": "59C8XeYdV9Bj",
        "outputId": "445609cd-483f-4ad3-d950-dc9f8a19d502"
      },
      "execution_count": 23,
      "outputs": [
        {
          "output_type": "execute_result",
          "data": {
            "text/plain": [
              "{'!',\n",
              " '#',\n",
              " '$',\n",
              " '%',\n",
              " '&',\n",
              " '(',\n",
              " ')',\n",
              " '+',\n",
              " ',',\n",
              " '-',\n",
              " '/',\n",
              " ':',\n",
              " ';',\n",
              " '=',\n",
              " '?',\n",
              " '@',\n",
              " '[',\n",
              " '\\\\',\n",
              " ']',\n",
              " '{',\n",
              " '|',\n",
              " '}',\n",
              " '~',\n",
              " '¬',\n",
              " '°',\n",
              " '¿',\n",
              " '“',\n",
              " '”'}"
            ]
          },
          "metadata": {},
          "execution_count": 23
        }
      ]
    },
    {
      "cell_type": "markdown",
      "source": [
        "### Distribución del Texto cifrado:\n",
        "Para la distribución del texto cifrado, se usa una función similar a aquella usada en la obtención de la distribución experimental. Se itera por el texto cifrado se cuenta el número de apariciones de letras usando un diccionario. Este se transforma a un dataframe para ordenar en order descendente. "
      ],
      "metadata": {
        "id": "0F8FvdE3jl14"
      }
    },
    {
      "cell_type": "code",
      "source": [
        "def get_cipher_text_distribution(cipher_text):\n",
        "  cipher_dict = dict()\n",
        "  alphabet = set(cipher_text)\n",
        "  for symbol in alphabet:\n",
        "    cipher_dict[symbol] = 0\n",
        "  for character in cipher_text:\n",
        "    cipher_dict[character]+=1\n",
        "  cipher_df = pd.DataFrame(cipher_dict.items(),columns=[\"Symbol\",\"Frequency\"]).sort_values(by=\"Frequency\",ascending=False,ignore_index=True)\n",
        "  return cipher_df"
      ],
      "metadata": {
        "id": "-L8-ESnMWP9O"
      },
      "execution_count": 24,
      "outputs": []
    },
    {
      "cell_type": "code",
      "source": [
        "cipher_dist = get_cipher_text_distribution(cipher_text)"
      ],
      "metadata": {
        "id": "O5mE_gfMW7wy"
      },
      "execution_count": 25,
      "outputs": []
    },
    {
      "cell_type": "code",
      "source": [
        "cipher_dist.head()"
      ],
      "metadata": {
        "colab": {
          "base_uri": "https://localhost:8080/",
          "height": 206
        },
        "id": "8C6HTyubXESL",
        "outputId": "af0d70b2-7705-4fb4-e4f5-bd82f8742579"
      },
      "execution_count": 26,
      "outputs": [
        {
          "output_type": "execute_result",
          "data": {
            "text/plain": [
              "  Symbol  Frequency\n",
              "0      ;       1327\n",
              "1      $       1235\n",
              "2      &        926\n",
              "3      +        870\n",
              "4      #        801"
            ],
            "text/html": [
              "\n",
              "  <div id=\"df-2ee6d692-3d2a-4046-8864-c63b8e818bbc\">\n",
              "    <div class=\"colab-df-container\">\n",
              "      <div>\n",
              "<style scoped>\n",
              "    .dataframe tbody tr th:only-of-type {\n",
              "        vertical-align: middle;\n",
              "    }\n",
              "\n",
              "    .dataframe tbody tr th {\n",
              "        vertical-align: top;\n",
              "    }\n",
              "\n",
              "    .dataframe thead th {\n",
              "        text-align: right;\n",
              "    }\n",
              "</style>\n",
              "<table border=\"1\" class=\"dataframe\">\n",
              "  <thead>\n",
              "    <tr style=\"text-align: right;\">\n",
              "      <th></th>\n",
              "      <th>Symbol</th>\n",
              "      <th>Frequency</th>\n",
              "    </tr>\n",
              "  </thead>\n",
              "  <tbody>\n",
              "    <tr>\n",
              "      <th>0</th>\n",
              "      <td>;</td>\n",
              "      <td>1327</td>\n",
              "    </tr>\n",
              "    <tr>\n",
              "      <th>1</th>\n",
              "      <td>$</td>\n",
              "      <td>1235</td>\n",
              "    </tr>\n",
              "    <tr>\n",
              "      <th>2</th>\n",
              "      <td>&amp;</td>\n",
              "      <td>926</td>\n",
              "    </tr>\n",
              "    <tr>\n",
              "      <th>3</th>\n",
              "      <td>+</td>\n",
              "      <td>870</td>\n",
              "    </tr>\n",
              "    <tr>\n",
              "      <th>4</th>\n",
              "      <td>#</td>\n",
              "      <td>801</td>\n",
              "    </tr>\n",
              "  </tbody>\n",
              "</table>\n",
              "</div>\n",
              "      <button class=\"colab-df-convert\" onclick=\"convertToInteractive('df-2ee6d692-3d2a-4046-8864-c63b8e818bbc')\"\n",
              "              title=\"Convert this dataframe to an interactive table.\"\n",
              "              style=\"display:none;\">\n",
              "        \n",
              "  <svg xmlns=\"http://www.w3.org/2000/svg\" height=\"24px\"viewBox=\"0 0 24 24\"\n",
              "       width=\"24px\">\n",
              "    <path d=\"M0 0h24v24H0V0z\" fill=\"none\"/>\n",
              "    <path d=\"M18.56 5.44l.94 2.06.94-2.06 2.06-.94-2.06-.94-.94-2.06-.94 2.06-2.06.94zm-11 1L8.5 8.5l.94-2.06 2.06-.94-2.06-.94L8.5 2.5l-.94 2.06-2.06.94zm10 10l.94 2.06.94-2.06 2.06-.94-2.06-.94-.94-2.06-.94 2.06-2.06.94z\"/><path d=\"M17.41 7.96l-1.37-1.37c-.4-.4-.92-.59-1.43-.59-.52 0-1.04.2-1.43.59L10.3 9.45l-7.72 7.72c-.78.78-.78 2.05 0 2.83L4 21.41c.39.39.9.59 1.41.59.51 0 1.02-.2 1.41-.59l7.78-7.78 2.81-2.81c.8-.78.8-2.07 0-2.86zM5.41 20L4 18.59l7.72-7.72 1.47 1.35L5.41 20z\"/>\n",
              "  </svg>\n",
              "      </button>\n",
              "      \n",
              "  <style>\n",
              "    .colab-df-container {\n",
              "      display:flex;\n",
              "      flex-wrap:wrap;\n",
              "      gap: 12px;\n",
              "    }\n",
              "\n",
              "    .colab-df-convert {\n",
              "      background-color: #E8F0FE;\n",
              "      border: none;\n",
              "      border-radius: 50%;\n",
              "      cursor: pointer;\n",
              "      display: none;\n",
              "      fill: #1967D2;\n",
              "      height: 32px;\n",
              "      padding: 0 0 0 0;\n",
              "      width: 32px;\n",
              "    }\n",
              "\n",
              "    .colab-df-convert:hover {\n",
              "      background-color: #E2EBFA;\n",
              "      box-shadow: 0px 1px 2px rgba(60, 64, 67, 0.3), 0px 1px 3px 1px rgba(60, 64, 67, 0.15);\n",
              "      fill: #174EA6;\n",
              "    }\n",
              "\n",
              "    [theme=dark] .colab-df-convert {\n",
              "      background-color: #3B4455;\n",
              "      fill: #D2E3FC;\n",
              "    }\n",
              "\n",
              "    [theme=dark] .colab-df-convert:hover {\n",
              "      background-color: #434B5C;\n",
              "      box-shadow: 0px 1px 3px 1px rgba(0, 0, 0, 0.15);\n",
              "      filter: drop-shadow(0px 1px 2px rgba(0, 0, 0, 0.3));\n",
              "      fill: #FFFFFF;\n",
              "    }\n",
              "  </style>\n",
              "\n",
              "      <script>\n",
              "        const buttonEl =\n",
              "          document.querySelector('#df-2ee6d692-3d2a-4046-8864-c63b8e818bbc button.colab-df-convert');\n",
              "        buttonEl.style.display =\n",
              "          google.colab.kernel.accessAllowed ? 'block' : 'none';\n",
              "\n",
              "        async function convertToInteractive(key) {\n",
              "          const element = document.querySelector('#df-2ee6d692-3d2a-4046-8864-c63b8e818bbc');\n",
              "          const dataTable =\n",
              "            await google.colab.kernel.invokeFunction('convertToInteractive',\n",
              "                                                     [key], {});\n",
              "          if (!dataTable) return;\n",
              "\n",
              "          const docLinkHtml = 'Like what you see? Visit the ' +\n",
              "            '<a target=\"_blank\" href=https://colab.research.google.com/notebooks/data_table.ipynb>data table notebook</a>'\n",
              "            + ' to learn more about interactive tables.';\n",
              "          element.innerHTML = '';\n",
              "          dataTable['output_type'] = 'display_data';\n",
              "          await google.colab.output.renderOutput(dataTable, element);\n",
              "          const docLink = document.createElement('div');\n",
              "          docLink.innerHTML = docLinkHtml;\n",
              "          element.appendChild(docLink);\n",
              "        }\n",
              "      </script>\n",
              "    </div>\n",
              "  </div>\n",
              "  "
            ]
          },
          "metadata": {},
          "execution_count": 26
        }
      ]
    },
    {
      "cell_type": "markdown",
      "source": [
        "# Frequencias: "
      ],
      "metadata": {
        "id": "5NV_fjs0Zb8x"
      }
    },
    {
      "cell_type": "markdown",
      "source": [
        "A continuación, se muestran las gráficas de la tabla de frecuencia experimental y aquella del texto cifrado. Nótese que se las gráficas tienen una forma similar por lo que se podría plantear la hipótesis de que los símbolos están alineados y son equivalentes."
      ],
      "metadata": {
        "id": "CwM9XoVZkTnP"
      }
    },
    {
      "cell_type": "code",
      "source": [
        "plt.figure(figsize=(15,10))\n",
        "plt.subplot(2,1,1)\n",
        "plt.bar(corpus_dist[\"Symbol\"],corpus_dist[\"Frequency\"])\n",
        "plt.title(\"Frequencia del Corpus\")\n",
        "plt.subplot(2,1,2)\n",
        "plt.bar(cipher_dist[\"Symbol\"],cipher_dist[\"Frequency\"])\n",
        "plt.title(\"Frequencia del Mensaje Cifrado\")"
      ],
      "metadata": {
        "colab": {
          "base_uri": "https://localhost:8080/",
          "height": 625
        },
        "id": "5FPk6KIQYJ3T",
        "outputId": "703b4ce6-f20c-4764-bf39-6e79f00690ad"
      },
      "execution_count": 27,
      "outputs": [
        {
          "output_type": "execute_result",
          "data": {
            "text/plain": [
              "Text(0.5, 1.0, 'Frequencia del Mensaje Cifrado')"
            ]
          },
          "metadata": {},
          "execution_count": 27
        },
        {
          "output_type": "display_data",
          "data": {
            "text/plain": [
              "<Figure size 1080x720 with 2 Axes>"
            ],
            "image/png": "[encoded data removed]"
          },
          "metadata": {
            "needs_background": "light"
          }
        }
      ]
    },
    {
      "cell_type": "markdown",
      "source": [
        "Partiendo de la hipótesis anterior, el primer enfoque que tome fue concatenar las listas de ambos alfabetos (texto en español experimental y texto cifrado) y concatenarlos para crear un diccionario donde las llaves son el carácter cifrado y los valores son su presunto equivalente en el alfabeto latino. Dicha estructura de datos se usará para traducir directamente el texto cifrado. En principio, dado que se usan las listas ordenadas en orden descendente por frecuencia de aparición se puede esperar que algunos símbolos coincidan. Es poco probable que en el primer intento todos los símbolos están alineados. Sin embargo, es probable que las letras más comunes lo estén, y esto puede ayudar a revelar palabras que permitan deducir a alineación del resto del alfabeto.\n",
        "\n"
      ],
      "metadata": {
        "id": "wQnDe-FZky5h"
      }
    },
    {
      "cell_type": "code",
      "source": [
        "corpus_symbols_sorted = list(corpus_dist[\"Symbol\"])\n",
        "cipher_symbols_sorted = list(cipher_dist[\"Symbol\"][:-1])"
      ],
      "metadata": {
        "id": "7fti2gR6YW5J"
      },
      "execution_count": 28,
      "outputs": []
    },
    {
      "cell_type": "code",
      "source": [
        "print(len(corpus_symbols_sorted))\n",
        "print(len(cipher_symbols_sorted))\n"
      ],
      "metadata": {
        "colab": {
          "base_uri": "https://localhost:8080/"
        },
        "id": "kD0GpIEyZ3ns",
        "outputId": "faf29698-ddbe-4035-a324-9dfff050360f"
      },
      "execution_count": 29,
      "outputs": [
        {
          "output_type": "stream",
          "name": "stdout",
          "text": [
            "27\n",
            "27\n"
          ]
        }
      ]
    },
    {
      "cell_type": "code",
      "source": [
        "traducer = dict(zip(cipher_symbols_sorted,corpus_symbols_sorted))"
      ],
      "metadata": {
        "id": "eucFS1R9aA0c"
      },
      "execution_count": 30,
      "outputs": []
    },
    {
      "cell_type": "code",
      "source": [
        "traducer"
      ],
      "metadata": {
        "colab": {
          "base_uri": "https://localhost:8080/"
        },
        "id": "1mJf-Y10aXYM",
        "outputId": "5d4af70e-7e99-4aff-b71d-6a9d0245e0bc"
      },
      "execution_count": 31,
      "outputs": [
        {
          "output_type": "execute_result",
          "data": {
            "text/plain": [
              "{';': 'E',\n",
              " '$': 'A',\n",
              " '&': 'O',\n",
              " '+': 'N',\n",
              " '#': 'S',\n",
              " ']': 'I',\n",
              " '¿': 'R',\n",
              " '?': 'L',\n",
              " '-': 'D',\n",
              " '=': 'T',\n",
              " '{': 'C',\n",
              " ':': 'U',\n",
              " '/': 'P',\n",
              " '!': 'M',\n",
              " '°': 'B',\n",
              " '[': 'G',\n",
              " '”': 'F',\n",
              " ',': 'V',\n",
              " '|': 'Q',\n",
              " '@': 'Y',\n",
              " '(': 'H',\n",
              " '¬': 'J',\n",
              " ')': 'Z',\n",
              " '~': 'X',\n",
              " '}': 'K',\n",
              " '\\\\': 'W',\n",
              " '“': 'Ñ'}"
            ]
          },
          "metadata": {},
          "execution_count": 31
        }
      ]
    },
    {
      "cell_type": "code",
      "source": [
        "cipher_sentences"
      ],
      "metadata": {
        "colab": {
          "base_uri": "https://localhost:8080/",
          "height": 139
        },
        "id": "B8IZwisxcele",
        "outputId": "2720bc36-f15b-4666-95e4-ad0c317b25c9"
      },
      "execution_count": 32,
      "outputs": [
        {
          "output_type": "execute_result",
          "data": {
            "text/plain": [
              "'$:#@:; #:;+-¿$+ °]?$+ +; °];¿&# ${-;¿$?$+ ;# ;{ ?&+ !]{ °;]#-; {$ ]#?:+-¿]$ ?; {$ =]”;¿+;[:¿]?$? °&{°]& =&# ,:;¿¬$ ;# ?&+ !]{ °;]#-]:#& !$#?]$#- $=;/-& ;{ ¿;-& ?; -¿$”$)$¿ ;# =]¿=:#+-$#=]$+ +];!/¿; =$!”]$#-;+ +]# ?;)$¿ ?; &,¿;=;¿ $ {&+ ={];#-;+ +;¿°]=]&+ ?; /¿]!;¿$ =${]?$? @:; +; $+&=]$# =&# #:;+-¿&+ ;~/;¿-&+ ;# =]”;¿+;[:¿]?$? {$+ ;~/;=-$-]°$+ +&# ,:#?$!;#-${;+ :#$ =&+$ =&# {$ @:; +];!/¿; /&?;!&+ =&#-$¿ ;+ ;{ #]°;{ ?; ]#=;¿-]?:!”¿; ;# ;{ $!”]-& =]”;¿#;-]=& {&+ $-$=$#-;+ =$!”]$# ¿;[:{$¿!;#-; +:+ -$=-]=$+ -;=#]=$+ | /¿&=;?]!];#-&+ /$¿$ ;°$?]¿ {$ ?;-;==]&# ?;)$#?& $ {&+ ?;,;#+&¿;+ {:=($#?& /$¿$ +;[:]¿ ;{ ¿]-!& =:$#?& !$#?]$#- $|:?$ $ ¿;?:=]¿ ;+$ “¿;=($ =&!/$¿-];#?& #:;+-¿&+ $/¿;#?]¬$);+ | ;~/;=-$-]°$+ ]#,&¿!$?&+ | ¿;+/${?$?&+ /&¿ /¿:;”$+ -$!”];# $°$#¬$!&+ ;# {$ !]+]&# ?; !$#?]$#- ($=;¿ @:; -&?$+ {$+ &¿[$#]¬$=]&#;+ ;+-;# +;[:¿$+ =&#-¿$ {$+ =]”;¿$!;#$¬$+ | =&#,];# ;# +: /¿;/$¿$=]&# ;{ ]#,&¿!; ?; ;+-; $%& =$-&¿=; /¿;?]==]&#;+ ?; =]”;¿+;[:¿]?$? /$¿$ ?&+ !]{ °;]#-]?&+ | !$+ ${{$ /¿;+;#-$ !$+ ?; :#$ ?&=;#$ ?; /:#-&+ ?; °]+-$ ?; #:;+-¿&+ {]?;¿;+ | /¿]#=]/${;+ ;~/;¿-&+ :”]=$?&+ ;# -&?& ;{ !:#?& ]#={:|;#?& $ +$#?¿$ )&|=; ;°/ [{&”${ ]#-;{ $?°$#=;? /¿$=-]=;+ | =($¿{;+ =$¿!$\\\\${ +°/ | ?]¿;=-&¿ ?; -;=#&{&[]$ /$+; {$ /$[]#$ /$¿$ ;~/{&¿$¿ {$+ /¿;?]==]&#;+ ?; +;[:¿]?$? ?; !$#?]$#- /$¿$ °;]#-]?&+ {$ $!;#$¬$ ?;{ ¿$#+&!}$¿; ($ =¿;=]?& +][#],]=$-]°$!;#-; $ {& {$¿[& ?; {$ :{-]!$ ?;=$?$ | =&#-]#:$¿$ +: -;#?;#=]$ ${ ${¬$ ;{ #;[&=]& ?;{ ¿$#+&!}$¿; ;+ +;#=]{{$!;#-; ?;!$+]$?& {:=¿$-]°& $ !;#&+ @:; {&+ [&”];¿#&+ ]#-;¿#$=]&#${;+ | {$+ ]##&°$=]&#;+ -;=#&{&[]=$+ /:;?$# ${-;¿$¿ ?; !$#;¿$ ,:#?$!;#-${ ;{ =${=:{& ?; {$ ¿;#-$”]{]?$? ?; {&+ $-$=$#-;+ $:#@:; (;!&+ °]+-& ;+,:;¿¬&+ /$¿$ ]#-;¿¿:!/]¿ {$+ &/;¿$=]&#;+ | ¿;+/&#+$”]{]¬$¿ $ {&+ $=-&¿;+ ?; {$+ $!;#$¬$+ {&+ =]”;¿?;{]#=:;#-;+ +]!/{;!;#-; +; -¿$+{$?$# $ &-¿$ /{$-$,&¿!$ =&!& /$¿-; ?;{ !&?;{& ?; #;[&=]& ?;{ ¿$#+&!}$¿; =&!& +;¿°]=]& /$¿$ =&#-]#:$¿ =&# +:+ &/;¿$=]&#;+ !:=(&+ $=-&¿;+ ?;{ ¿$#+&!}$¿; &/;¿$# ?;+?; {:[$¿;+ @:; #& +; ¿][;# /&¿ {$ {;[]+{$=]&# ;+-$?&:#]?;#+; | ?;+?; ¿;[]&#;+ ?&#?; +:+ $==]&#;+ #& -];#;# -$#-&+ =&+-&+ #] ¿;/;¿=:+]&#;+ ;+/;¿$!&+ °;¿ !$+ {$+ &/;¿$=]&#;+ ?; ¿$#+&!}$¿; =&!& +;¿°]=]& +:;{;# ]!/{]=$¿ $ °$¿]&+ $=-&¿;+ =$?$ :#& ?; {&+ =:${;+ ¿;${]¬$ :# ;{;!;#-& ;+/;=],]=& ?;{ $-$@:; $ =$!”]& ?; :#$ =:&-$ & :#$ /$¿-; ?; {&+ “;#;,]=]&+ /¿;°;!&+ @:; $ {& {$¿[& ?;{ ?&+ !]{ °;]#-]?&+ $:!;#-$¿$ ;{ =&#,{]=-& ;#-¿; ;+-&+ $=-&¿;+ | ;+-; /:;?; $=$”$¿ /¿&°&=$#?& !${&+ ¿;+:{-$?&+ /$¿$ {$+ °]=-]!$+ {&+ =&#,{]=-&+ /:;?;# /¿&?:=]¿+; =:$#?& {&+ &”);-]°&+ #& /$[$# & +] {$+ ,:;¿¬$+ ?; +;[:¿]?$? ?;+!$#-;{$# {$ =$/$=]?$? ?; =&”¿& ?; {&+ /;¿/;-¿$?&¿;+ -$!”];# /:;?;# +:¿[]¿ =&#,{]=-&+ =:$#?& {$+ &¿[$#]¬$=]&#;+ ?; °]=-]!$+ $=$”$# /$[$#?& :# $=-&¿ =&#=¿;-& /:;?; +;#-]¿ @:; #& ($ =&”¿$?& {& +:,]=];#-; & @:; #& ;+-$ ¿;=]”];#?& +: /$¿-; ):+-$ |$ ;+-$!&+ °];#?& ;+-; -]/& ?; =&#,{]=-&+ ;#-¿; {&+ /;¿/;-¿$?&¿;+ | {$+ °]=-]!$+ /&?¿]$# +:,¿]¿ /&¿ ;{{& ;# {&+ /¿&~]!&+ ?&=; !;+;+ ;+/;¿$!&+ °;¿ !:=($+ +]-:$=]&#;+ ;# {$+ @:; {$+ °]=-]!$+ /$[$¿$# :# !]{{&# ?; ?&{$¿;+ & !$+ /$¿$ ;°]-$¿ @:; +; /:”{]@:;# +:+ ?$-&+ ¿&”$?&+ ;# ${[:#$+ ?; ;+-$+ +]-:$=]&#;+ ${[:#&+ & -&?&+ ;+&+ ?$-&+ /:;?;# +;¿ /:”{]=$?&+ /&¿ :#& ?; {&+ $=-&¿;+ ?; {$ &/;¿$=]&# ?;”]?& $ :# =&#,{]=-& =&#,&¿!; ;+-&+ (;=(&+ $:!;#-;# !$|&¿ +;¿$ ;{ ;,;=-& ;# {$ ,&¿!$ ;# @:; {$+ &¿[$#]¬$=]&#;+ /];#+;# +&”¿; ;{ /$[& ?; ¿;+=$-;+ ;{ [&”];¿#& ?; {&+ ;+-$?&+ :#]?&+ ;+-$ ;#,&=$?& ;# ;{ ¿$#+&!}$¿; | ;# =&!& ,¿;#$¿{& | ;+-& /:;?; -;#;¿ =&#+;=:;#=]$+ #;[$-]°$+ /$¿$ {$+ &¿[$#]¬$=]&#;+ /&¿ ;);!/{& {$+ &¿[$#]¬$=]&#;+ ;+-$?&:#]?;#+;+ | {$+ @:; #& -];#;# +;?; ;# {&+ ;+-$?&+ :#]?&+ /;¿& &/;¿$# ;# ;+; /$]+ #& /:;?;# /$[$¿ $ /;¿/;-¿$?&¿;+ +$#=]&#$?&+ #] $ #]#[:# [¿:/& & ]#?]°]?:& @:; ,][:¿; ;# {$ {]+-$ ?; #& /$[& ?;{ ?;/$¿-$!;#-& ?;{ -;+&¿& ?; {&+ ;+-$?&+ :#]?&+ $:# $+] ;# °$¿]&+ =$+&+ /:”{]=&+ {$+ °]=-]!$+ /$[$¿&# $ [¿:/&+ @:; /&?]$# -;#;¿ ${[:#$ =&#;~]&# +:;{-$ =&# {$+ ;#-]?$?;+ +$#=]&#$?$+ #& #;=;+$¿]$!;#-; =&#;~]&#;+ [$¿$#-]¬$?$+ & ]#={:+& =&#=¿;-$+ /;¿& +] ${[:#$ =¿;;#=]$ {;°; ?; @:; /&?¿]$ ($”;¿ :#$ =&#;~]&# #& ;+-$!&+ +;[:¿&+ ?; @:; ;{ [&”];¿#& ?; :# ;+=$¿!];#-& $ :#$ & !$+ ?; {$+ [¿$#?;+ &¿[$#]¬$=]&#;+ @:; ¿;${]=;# :# /$[& $ :#$ /¿;+:#-$ ;#-]?$? +$#=]&#$?$ =&# {$ !;¿$ ]#-;#=]&# ?; ]#-;#-$¿ ,¿;#$¿ | ;°]-$¿ @:; {$+ &¿[$#]¬$=]&#;+ °]=-]!$+ /$[:;# [¿$#?;+ +:!$+ /&¿ ?;!$#?$+ ?; ;~-&¿+]&# ($| °$¿]$+ /;¿+/;=-]°$+ ?],;¿;#-;+ +&”¿; {&+ /$[&+ ?; ;~-&¿+]&# ]#={:]?$ {$ ?; /¿&(]”]¿{&+ ?]¿;=-$!;#-; /$¿$ @:; -&?& ;{ /¿&=;+& +;$ ]{;[${ ;# =&#+;=:;#=]$ /¿;°;!&+ @:; /¿&”$”{;!;#-; ($”¿$ ${[:# ¿;=:¿+& #;[$-]°& /$¿$ :#$ &¿[$#]¬$=]&# $,;=-$?$ @:; ($|$ /$[$?& :#$ ?;!$#?$ ?; ;~-&¿+]&# $ {& {$¿[& ?; ?&+ !]{ °;]#-; &”+;¿°$!&+ @:; {&+ /;¿/;-¿$?&¿;+ ?; “$)$ +&,]+-]=$=]&# $/¿;#?];¿&# @:; /&?]$# =¿;$¿ [¿$#?;+ ]!/$=-&+ ;# ;{ ;+/$=]& ?; {$ -;=#&{&[]$ &/;¿$-]°$ &- @:]¬$+ ]#={:+& !$|&¿;+ ?; {& @:; /¿;-;#?]$# {&+ $=-&¿;+ +;[:]¿$# ;~/{&¿$#?& ;{ ;+/$=]& &- ;# ?&+ !]{ °;]#-]?&+ | :-]{]¬$¿$# =$?$ °;¬ !$+ ;{ ¿$#+&!}$¿; ;# +:+ $-$@:;+ ;+-$ ,&=${]¬$=]&# +; /¿&?:=]¿$ /&¿ {$ #;=;+]?$? ?; !$#-;#;¿ {&+ ;#-&¿#&+ &- /{;#$!;#-; &/;¿$-]°&+ ;+/;=]${!;#-; =:$#?& {&+ +]+-;!$+ ,&¿!$# /$¿-; ?; ]#,¿$;+-¿:=-:¿$+ =¿]-]=$+ {&+ $-$@:;+ =&#-¿$ ;#-&¿#&+ =¿]-]=&+ ?; &- /:;?;# =$:+$¿ [¿$°;+ -¿$+-&¿#&+ ; ]#={:+& /&#;¿ ;# /;{][¿& °]?$+ (:!$#$+ {& @:; $:!;#-$ {$ /¿;+]&# /$¿$ @:; {$+ &¿[$#]¬$=]&#;+ /$[:;# :# ¿;+=$-; /$¿$ $[¿$°$¿ ;{ /¿&”{;!$ !:=(&+ ?; ;+-&+ ?]+/&+]-]°&+ &- #& +; =&#+-¿:|;# =&# {$ +;[:¿]?$? ;# {$ °$#[:$¿?]$ ?;{ ?]+;%& | $=-:${!;#-; ;+-$!&+ °];#?& :# $:!;#-& !$+]°& ;# ;{ #:!;¿& ?; °:{#;¿$”]{]?$?;+ @:; +; ]?;#-],]=$# ;# {&+ ;#-&¿#&+ &- (]+-&¿]=$!;#-; {$+ °:{#;¿$=]&#;+ ;# {$ ¿;[]&# ?; {$ $/) #& +; ($# (;=(& /:”{]=$+ /;¿& ;+ /¿&”$”{; @:; ;+-& =$!”]; ;# ?&+ !]{ °;]#-]?&+ $ !;?]?$ @:; {$ ;~-&¿+]&# !:{-],$=;-]=$ +;$ !$+ ,¿;=:;#-; ;# ;{ /$+$?& ($=;¿ /:”{]=$ :#$ °:{#;¿$=]&# #& “;#;,]=]$”$ #] ${ $-$=$#-; #] $ {$ &¿[$#]¬$=]&# $,;=-$?$ {&+ $-$=$#-;+ @:;¿]$# /;¿!$#;=;¿ ]#°]+]”{;+ ;{ !$|&¿ -];!/& /&+]”{; =&# {$ ;+/;¿$#¬$ ?; !$#-;#;¿ +: $==;+& $ {$+ ¿;?;+ ?; {$+ °]=-]!$+ ?:¿$#-; {$¿[&+ /;¿]&?&+ | {$+ °]=-]!$+ @:;¿]$# ;°]-$¿ ;{ ?$%& $ {$ ¿;/:-$=]&# ;{ ]!/$=-& ,]#$#=];¿& | &-¿$+ =&#+;=:;#=]$+ @:; +; ?;¿]°$# ?; :#$ °:{#;¿$=]&# {$ ;~-&¿+]&# !:{-],$=;-]=$ ($ =$!”]$?& -&?& ;+& $(&¿$ {&+ $-$=$#-;+ +]!/{;!;#-; $!;#$¬$# =&# ;~/&#;¿ {$+ °:{#;¿$=]&#;+ | /:”{]=$¿ {&+ ?$-&+ +;#+]”{;+ /$¿$ $:!;#-$¿ {$ :¿[;#=]$ ?; /$[$¿ {$+ &¿[$#]¬$=]&#;+ ;# {$ $/) ?;”;# ;+-$¿ /¿;/$¿$?$+ /$¿$ ($=;¿ ,¿;#-; $ ;+-; -]/& ?; &/;¿$?&¿;+ ?; ;~-&¿+]&# /;¿& {$!;#-$”{;!;#-; !:=(&+ ;# {$ ¿;[]&# =$¿;=;# ?; ;~/;¿];#=]$ =&# ;+-; -]/& ?; $!;#$¬$+ & #& {$+ -&!$# ;# +;¿]& /&¿ {& -$#-& /¿;°;!&+ @:; {&+ $-$=$#-;+ ($¿$# /:”{]=$+ !:=($+ !$+ °:{#;¿$=]&#;+ ?; &¿[$#]¬$=]&#;+ ;# {$ $/) ¿:+]$ !$#-;#?¿$ :#$ /&+-:¿$ $[¿;+]°$ ;# {& @:; @:;?$ ?; ?&+ !]{ °;]#-]:#& | ;# ?&+ !]{ °;]#-]?&+ =&# :# ;#,$+]+ +&+-;#]?& ;# {&+ &”);-]°&+ ?; {$ &-$# ;:¿&/$ ?;{ ;+-; :=¿$#]$ $,[$#]+-$# | ;{ +;=-&¿ ;#;¿[;-]=& ;{ [&”];¿#& ?; {&+ ;+-$?&+ :#]?&+ $-¿]”:|& $ ¿:+]$ ;{ ]#=]?;#-; ?; =&!/¿&!]+& ?; {$ =$?;#$ ?; +:!]#]+-¿& ?; +&{$¿}]#?+ {& @:; ?;!:;+-¿$ @:; ¿:+]$ -];#; {$ =$/$=]?$? ?; {&[¿$¿ :# ]!/$=-& [;#;¿${]¬$?& =¿;;!&+ @:; {&+ ;#-&¿#&+ ?; {$ =$?;#$ ?; +:!]#]+-¿& ?; +&,-}$¿; | ?; {$ =$?;#$ ?; +:!]#]+-¿& ;# [;#;¿${ +;[:]¿$# +];#?& ;{ &”);-]°& ?; ¿:+]$ ;{ /¿&~]!& $%& $?;!$+ {$ !$#]/:{$=]&# ?; {&+ !;-&?&+ ?; $:-;#-]=$=]&# ;# ;#-&¿#&+ (]”¿]?&+ ?; #:”; & ;# ;{ +]-]& /&#; ?; !$#],];+-& -$=-]=$+ ]##&°$?&¿$+ {& @:; #&+ {{;°$ $ /;#+$¿ @:; ;{ #]°;{ ?; +&,]+-]=$=]&# | ;{ ${=$#=; ?; {$+ &/;¿$=]&#;+ ¿:+$+ +; $!/{]$¿$# ]¿$# :-]{]¬$¿$ +:+ (;¿¿$!];#-$+ =]”;¿#;-]=$+ ?; !$#;¿$ !:=(& !$+ $[¿;+]°$ /$¿$ /¿&!&°;¿ {&+ ]#-;¿;+;+ ¿;[]&#${;+ {$+ &/;¿$=]&#;+ ?; ]#,&¿!$=]&# $-¿]”:]?$+ /&¿ {&+ ;+-$?&+ :#]?&+ $ ]¿$# ;# ?&+ !]{ °;]#-; | ?&+ !]{ °;]#-]:#& ?;!&+-¿$¿&# -$=-]=$+ !$+ $[¿;+]°$+ @:; {$+ °]+-$+ $#-;¿]&¿!;#-; ]¿$# -$!”];# +;[:]¿$ $-$=$#?& $ ]+¿$;{ | $ &-¿&+ /$]+;+ ?; &¿];#-; !;?]& ($# ?;!&+-¿$?& +: =$/$=]?$? | °&{:#-$? ?; :-]{]¬$¿ !${}$¿; ?;+-¿:=-]°& $+] @:; /¿;°;!&+ @:; $/¿&°;=($¿$# =:${@:];¿ &/&¿-:#]?$? @:; +; {;+ /¿;+;#-; ;# :{-]!$ ]#+-$#=]$ °;¿;!&+ $ ]¿$# -¿$-$#?& ?; =¿;$¿ :# !$|&¿ ;@:]{]”¿]& ?; /&?;¿ ;# ,:#=]&# ?; +:+ /¿&/]&+ ]#-;¿;+;+ {&+ (;!&+ °]+-& =&# &”);-]°&+ ;# ;{ ;~-¿$#);¿& /;¿& {& !$+ /¿&”$”{; ;+ @:; +: &”);-]°& $ {& {$¿[& ?; ?&+ !]{ °;]#-]?&+ +;$ ¿;[]&#${ =(]#$ +;[:]¿$ +];#?& !:| $[¿;+]°$ $/&|$#?& {$ ]#]=]$-]°$ ?;{ =]#-:¿&# | ¿:-$ ?; {$ +;?$ :-]{]¬$#?& ;{ =]”;¿;+/]&#$); $(&¿$ @:; ;{ !]#]+-;¿]& ?; +;[:¿]?$? ?;{ ;+-$?& | ;{ ;);¿=]-& /&/:{$¿ ?; {]”;¿$=]&# ($# =&!/{;-$?& {$ !$|&¿ /$¿-; ?; +: ¿;&¿[$#]¬$=]&# +:+ &/;¿$=]&#;+ °$# $ ;+-$¿ !:=(& !$+ =;#-¿$?$+ =(]#$ ($ !&+-¿$?& +: °&{:#-$? ?; $!/{]$¿ +:+ &/;¿$=]&#;+ | -&!$¿ !;?]?$+ @:; $#-;+ ;{ /$]+ #& ;+-$”$ ?]+/:;+-& $ -&!$¿ $ !;?]?$ @:; {$+ -;#+]&#;+ [;&/&{]-]=$+ +][:;# $:!;#-$#?& {$ [¿$# /¿;[:#-$ ;+ =:$#?& °;¿;!&+ $ =(]#$ ?;+/{;[$¿ ${[:#$+ ?; +:+ =$/$=]?$?;+ ?;+-¿:=-]°$+ =&#&=]?$+ /;¿& $:# #& :-]{]¬$?$+ =&¿;$ ?;{ #&¿-; ,¿;#-; $ +:+ ?;+$,]&+ [;&[¿$,]=&+ ]#-;¿#$=]&#${;+ | ,]#$#=];¿&+ ;+-$ ?]+/:;+-$ $ -&!$¿ !:=(&+ ¿];+[&+ ;# ?&+ !]{ °;]#-]?&+ ;+/;¿$!&+ °;¿ $ =&¿;$ ?;{ #&¿-; ,{;~]&#$¿ +:+ =$/$=]?$?;+ =]”;¿#;-]=$+ /$¿$ =&!/;#+$¿ +: ,${-$ ?; &-¿&+ ]#+-¿:!;#-&+ ?; /&?;¿ #$=]&#${ ;{ $/$¿$-& =]”;¿#;-]=& #&¿=&¿;$#& +;[:]¿$ $/&|$#?& ${ ¿;[]!;# ?; \\\\]! !;?]$#-; {$ ,]#$#=]$=]&# ?; {$+ $!”]=]&#;+ #:={;$¿;+ | {$ &”-;#=]&# ?; ]#,&¿!$=]&# ;+-¿$-;[]=$ =&# {$ $,]¿!$=]&# ?;{ =&#-¿&{ -${]”$# | {$ +${]?$ ?; {$+ ,:;¿¬$+ ;+-$?&:#]?;#+;+ ?; $,[$#]+-$# +; /:;?;# $#-]=]/$¿ !$+ &/;¿$=]&#;+ ?; =]”;¿;+/]&#$); ; ]#,&¿!$=]&# ;!/;¬$¿;!&+ $ °;¿ $ {&+ $=-&¿;+ ($”]-:${;+ ?; {$+ &/;¿$=]&#;+ ?; ]#,&¿!$=]&# ]¿$# =(]#$ | ¿:+]$ ]!/:{+$¿ #$¿¿$-]°$+ /$¿$ $/&|$¿ +:+ ]#-;¿;+;+ ($+-$ ,]#${;+ ?; ?&+ !]{ °;]#-]:#& | /¿]#=]/]&+ ?; ?&+ !]{ °;]#-]?&+ -$!”];# ($¿$# (]#=$/]; ;# {$+ /;¿=;/=]&#;+ #;[$-]°$+ ;# -&¿#& $ {&+ $=&#-;=]!];#-&+ ;+/;=]${!;#-; {$ /;¿=;/=]&# ?; @:; {&+ ;+-$?&+ :#]?&+ #& =:!/{]& +:+ =&!/¿&!]+&+ =&# &¿[$#]¬$=]&#;+ | /$]+;+ {$ ?;={$¿$=]&# ?; :# ;!]¿$-& -$!”];# /:;?; ;#°${;#-&#$¿ $ {&+ /;¿/;-¿$?&¿;+ ;~-¿;!]+-$+ /¿&]+{$!]=&+ /$¿$ @:; $!/{];# +:+ $=-]°]?$?;+ ?; /¿&/$[$#?$ {& @:; ]#={:|; -$=-]=$+ ?; ($=\\\\-]°]+!& =&!& +:+-]-:=]&#;+ {$ $/¿&/]$=]&# ?; =:;#-$+ ;# {$+ ¿;?;+ +&=]${;+ | {$ ?],:+]&# ?; {]+-$+ ?; $+;+]#$-&+ =&!/]{$?$+ $ /$¿-]¿ ?; ?$-&+ ?; =&?][& $”];¿-& & =&!/¿&!;-]?&+ {$ ;,]=$=]$ ?; {$+ ?;;/,$\\\\;+ °]?;&+ ,${+&+ =&# $/$¿];#=]$ !:| ¿;${ ;# {$+ &/;¿$=]&#;+ ?; ]#,&¿!$=]&# +; ($ ?;”$-]?& ;# {$ =&!:#]?$? ?; +;[:¿]?$? /;¿& {&+ $=-&¿;+ /$-¿&=]#$?&+ /&¿ ;{ ;+-$?& | =&# !&-]°$=]&#;+ ,]#$#=];¿$+ -$!”];# ($# ?;!&+-¿$?& :# =¿;=];#-; ]#-;¿;+ ;# ;+-$ -;=#&{&[]$ !$#?]$#- &”+;¿°& /:”{]=$=]&#;+ | $#:#=]&+ +&”¿; {$ -;=#&{&[]$ ?;;/,$\\\\; ;# ,&¿&+ =¿]!]#${;+ ={$#?;+-]#&+ ;# ¿:+& ; ]#[{;+ $ {& {$¿[& ?; ?&+ !]{ °;]#-; | ?&+ !]{ °;]#-]:#& {&+ :+:$¿]&+ ?; ;+-&+ ,&¿&+ ={$#?;+-]#&+ $#:#=]$”$# °]?;&+ ; ]!$[;#;+ ?;;/,$\\\\; /;¿+&#${]¬$?&+ $+] =&!& ,&¿!$=]&# /$¿$ @:; {&+ :+:$¿]&+ =¿;$¿$# +:+ /¿&/]&+ !;?]&+ !$#]/:{$?&+ ;{ $:?]& ?;;/,$\\\\; ($ ,$=]{]-$?& ;+@:;!$+ ?; ,¿$:?; ?;{ -]/& ?; =&¿¿;& ;{;=-¿&#]=& =&!;¿=]${ {$+ ,:;#-;+ $”];¿-$+ /&#;# ?; ¿;{];°; =&!& {&+ /;¿/;-¿$?&¿;+ ($# :-]{]¬$?& !;?]&+ ?; =&!:#]=$=]&# !$#]/:{$?&+ /$¿$ ;{:?]¿ {&+ /¿&-&=&{&+ ?; +;[:¿]?$? ?; {$ $:-;#-]=$=]&# !:{-],$=-&¿]${ | {$+ !;?]?$+ ?; °;¿],]=$=]&# ?; ]?;#-]?$? ?; =&#&¬=$ $ +: ={];#-; /¿;°;!&+ @:; $ !;?]?$ @:; $:!;#-; {$ ?]+/&#]”]{]?$? ?; {$ -;=#&{&[]$ ?;;/,$\\\\; ;# ?&+ !]{ °;]#-]?&+ ;# $?;{$#-; {&+ /;¿/;-¿$?&¿;+ ?; ?;{]-&+ | ?; ;+/]&#$); ]#-;[¿$¿$# =$?$ °;¬ !$+ !;?]&+ !$#]/:{$?&+ ;# +:+ &/;¿$=]&#;+ /$¿$ ($=;¿ !$+ =&#°]#=;#-; {$ ]#[;#];¿]$ +&=]${ $?$/-$¿ ,$=]{!;#-; ;{ =&#-;#]?& $ &”);-]°&+ ;+/;=],]=&+ | ?;¿¿&-$¿ ${[:#&+ +]+-;!$+ ?; °;¿],]=$=]&# ?; ]?;#-]?$? $:-&!$-]¬$?&+ {$ +:”=&#-¿$-$=]&# ?; {$+ &/;¿$=]&#;+ !${]=]&+$+ $ -¿$°;+ ?; ?]+-]#-&+ !;=$#]+!&+ =&!& {&+ /¿&[¿$!$+ ?; $,]{]$=]&# ?; ¿$#+&!}$¿; {&+ °;#?;?&¿;+ ?; ;~/{&]-+ {&+ =&#-¿$-]+-$+ =&!;¿=]${;+ {&+ °;#?;?&¿;+ ?; !${}$¿; | {&+ $:-&#&!&+ =&#-¿]”:|; -$#-& $ {$ =¿;=];#-; ,¿;=:;#=]$ =&!& $ {$ =&!/{;)]?$? ?; {$ $=-]°]?$? ?; {$+ =]”;¿$!;#$¬$+ #& °;!&+ ]#?]=]&+ ?; @:; ;+-& !;¿!; ;# ?&+ !]{ °;]#-]?&+ {$ ?],:!]#$=]&# ?; {$+ ?]+-]#=]&#;+ ;#-¿; {$+ &/;¿$=]&#;+ =&# !&-]°$=]&# ,]#$#=];¿$ | {$+ /$-¿&=]#$?$+ /&¿ ;{ ;+-$?& -$#-& ;# {& @:; ¿;+/;=-$ $ {$+ (;¿¿$!];#-$+ =&!& ${ -${;#-& {$ !$?:¿$=]&# ?; {&+ !;¿=$?&+ {;[]-]!&+ ; ]{;[]-]!&+ ?; (;¿¿$!];#-$+ | +;¿°]=]&+ ?; -;¿=;¿&+ | {$ =¿;=];#-; ;+/;=]${]¬$=]&#'"
            ],
            "application/vnd.google.colaboratory.intrinsic+json": {
              "type": "string"
            }
          },
          "metadata": {},
          "execution_count": 32
        }
      ]
    },
    {
      "cell_type": "code",
      "source": [
        "decoded = \"\"\n",
        "for character in cipher_sentences:\n",
        "  if character == \" \":\n",
        "    decoded += character\n",
        "  else:\n",
        "    try:\n",
        "      decoded += traducer[character]\n",
        "    except:\n",
        "      continue"
      ],
      "metadata": {
        "id": "7xGsQ7fKaY5h"
      },
      "execution_count": 33,
      "outputs": []
    },
    {
      "cell_type": "code",
      "source": [
        "decoded"
      ],
      "metadata": {
        "colab": {
          "base_uri": "https://localhost:8080/",
          "height": 139
        },
        "id": "q8VqNwU7cZdy",
        "outputId": "8e9e3e3a-2d0b-4ec3-b275-05fe901b7b01"
      },
      "execution_count": 34,
      "outputs": [
        {
          "output_type": "execute_result",
          "data": {
            "text/plain": [
              "'AUSYUE SUENDRAN BILAN NE BIEROS ACDERALAN ES EC LON MIC BEISDE CA ISLUNDRIA LE CA TIFERNEGURILAL BOCBIO TOS VUERJA ES LON MIC BEISDIUSO MASLIASD ATEPDO EC REDO LE DRAFAZAR ES TIRTUSNDASTIAN NIEMPRE TAMFIASDEN NIS LEZAR LE OVRETER A CON TCIESDEN NERBITION LE PRIMERA TACILAL YUE NE ANOTIAS TOS SUENDRON EXPERDON ES TIFERNEGURILAL CAN EXPETDADIBAN NOS VUSLAMESDACEN USA TONA TOS CA YUE NIEMPRE POLEMON TOSDAR EN EC SIBEC LE ISTERDILUMFRE ES EC AMFIDO TIFERSEDITO CON ADATASDEN TAMFIAS REGUCARMESDE NUN DATDITAN DETSITAN Q PROTELIMIESDON PARA EBALIR CA LEDETTIOS LEZASLO A CON LEVESNOREN CUTHASLO PARA NEGUIR EC RIDMO TUASLO MASLIASD AQULA A RELUTIR ENA ÑRETHA TOMPARDIESLO SUENDRON APRESLIJAZEN Q EXPETDADIBAN ISVORMALON Q RENPACLALON POR PRUEFAN DAMFIES ABASJAMON ES CA MINIOS LE MASLIASD HATER YUE DOLAN CAN ORGASIJATIOSEN ENDES NEGURAN TOSDRA CAN TIFERAMESAJAN Q TOSVIES ES NU PREPARATIOS EC ISVORME LE ENDE AO TADORTE PRELITTIOSEN LE TIFERNEGURILAL PARA LON MIC BEISDILON Q MAN ACCA PRENESDA MAN LE USA LOTESA LE PUSDON LE BINDA LE SUENDRON CILEREN Q PRISTIPACEN EXPERDON UFITALON ES DOLO EC MUSLO ISTCUQESLO A NASLRA ZOQTE EBP GCOFAC ISDEC ALBASTEL PRATDITEN Q THARCEN TARMAWAC NBP Q LIRETDOR LE DETSOCOGIA PANE CA PAGISA PARA EXPCORAR CAN PRELITTIOSEN LE NEGURILAL LE MASLIASD PARA BEISDILON CA AMESAJA LEC RASNOMKARE HA TRETILO NIGSIVITADIBAMESDE A CO CARGO LE CA UCDIMA LETALA Q TOSDISUARA NU DESLESTIA AC ACJA EC SEGOTIO LEC RASNOMKARE EN NESTICCAMESDE LEMANIALO CUTRADIBO A MESON YUE CON GOFIERSON ISDERSATIOSACEN Q CAN ISSOBATIOSEN DETSOCOGITAN PUELAS ACDERAR LE MASERA VUSLAMESDAC EC TACTUCO LE CA RESDAFICILAL LE CON ADATASDEN AUSYUE HEMON BINDO ENVUERJON PARA ISDERRUMPIR CAN OPERATIOSEN Q RENPOSNAFICIJAR A CON ATDOREN LE CAN AMESAJAN CON TIFERLECISTUESDEN NIMPCEMESDE NE DRANCALAS A ODRA PCADAVORMA TOMO PARDE LEC MOLECO LE SEGOTIO LEC RASNOMKARE TOMO NERBITIO PARA TOSDISUAR TOS NUN OPERATIOSEN MUTHON ATDOREN LEC RASNOMKARE OPERAS LENLE CUGAREN YUE SO NE RIGES POR CA CEGINCATIOS ENDALOUSILESNE Q LENLE REGIOSEN LOSLE NUN ATTIOSEN SO DIESES DASDON TONDON SI REPERTUNIOSEN ENPERAMON BER MAN CAN OPERATIOSEN LE RASNOMKARE TOMO NERBITIO NUECES IMPCITAR A BARION ATDOREN TALA USO LE CON TUACEN REACIJA US ECEMESDO ENPETIVITO LEC ADAYUE A TAMFIO LE USA TUODA O USA PARDE LE CON ÑESEVITION PREBEMON YUE A CO CARGO LEC LON MIC BEISDILON AUMESDARA EC TOSVCITDO ESDRE ENDON ATDOREN Q ENDE PUELE ATAFAR PROBOTASLO MACON RENUCDALON PARA CAN BITDIMAN CON TOSVCITDON PUELES PROLUTIRNE TUASLO CON OFZEDIBON SO PAGAS O NI CAN VUERJAN LE NEGURILAL LENMASDECAS CA TAPATILAL LE TOFRO LE CON PERPEDRALOREN DAMFIES PUELES NURGIR TOSVCITDON TUASLO CAN ORGASIJATIOSEN LE BITDIMAN ATAFAS PAGASLO US ATDOR TOSTREDO PUELE NESDIR YUE SO HA TOFRALO CO NUVITIESDE O YUE SO ENDA RETIFIESLO NU PARDE ZUNDA QA ENDAMON BIESLO ENDE DIPO LE TOSVCITDON ESDRE CON PERPEDRALOREN Q CAN BITDIMAN POLRIAS NUVRIR POR ECCO ES CON PROXIMON LOTE MENEN ENPERAMON BER MUTHAN NIDUATIOSEN ES CAN YUE CAN BITDIMAN PAGARAS US MICCOS LE LOCAREN O MAN PARA EBIDAR YUE NE PUFCIYUES NUN LADON ROFALON ES ACGUSAN LE ENDAN NIDUATIOSEN ACGUSON O DOLON ENON LADON PUELES NER PUFCITALON POR USO LE CON ATDOREN LE CA OPERATIOS LEFILO A US TOSVCITDO TOSVORME ENDON HETHON AUMESDES MAQOR NERA EC EVETDO ES CA VORMA ES YUE CAN ORGASIJATIOSEN PIESNES NOFRE EC PAGO LE RENTADEN EC GOFIERSO LE CON ENDALON USILON ENDA ESVOTALO ES EC RASNOMKARE Q ES TOMO VRESARCO Q ENDO PUELE DESER TOSNETUESTIAN SEGADIBAN PARA CAN ORGASIJATIOSEN POR EZEMPCO CAN ORGASIJATIOSEN ENDALOUSILESNEN Q CAN YUE SO DIESES NELE ES CON ENDALON USILON PERO OPERAS ES ENE PAIN SO PUELES PAGAR A PERPEDRALOREN NASTIOSALON SI A SISGUS GRUPO O ISLIBILUO YUE VIGURE ES CA CINDA LE SO PAGO LEC LEPARDAMESDO LEC DENORO LE CON ENDALON USILON AUS ANI ES BARION TANON PUFCITON CAN BITDIMAN PAGAROS A GRUPON YUE POLIAS DESER ACGUSA TOSEXIOS NUECDA TOS CAN ESDILALEN NASTIOSALAN SO SETENARIAMESDE TOSEXIOSEN GARASDIJALAN O ISTCUNO TOSTREDAN PERO NI ACGUSA TREESTIA CEBE LE YUE POLRIA HAFER USA TOSEXIOS SO ENDAMON NEGURON LE YUE EC GOFIERSO LE US ENTARMIESDO A USA O MAN LE CAN GRASLEN ORGASIJATIOSEN YUE REACITES US PAGO A USA PRENUSDA ESDILAL NASTIOSALA TOS CA MERA ISDESTIOS LE ISDESDAR VRESAR Q EBIDAR YUE CAN ORGASIJATIOSEN BITDIMAN PAGUES GRASLEN NUMAN POR LEMASLAN LE EXDORNIOS HAQ BARIAN PERNPETDIBAN LIVERESDEN NOFRE CON PAGON LE EXDORNIOS ISTCUILA CA LE PROHIFIRCON LIRETDAMESDE PARA YUE DOLO EC PROTENO NEA ICEGAC ES TOSNETUESTIA PREBEMON YUE PROFAFCEMESDE HAFRA ACGUS RETURNO SEGADIBO PARA USA ORGASIJATIOS AVETDALA YUE HAQA PAGALO USA LEMASLA LE EXDORNIOS A CO CARGO LE LON MIC BEISDE OFNERBAMON YUE CON PERPEDRALOREN LE ÑAZA NOVINDITATIOS APRESLIEROS YUE POLIAS TREAR GRASLEN IMPATDON ES EC ENPATIO LE CA DETSOCOGIA OPERADIBA OD YUIJAN ISTCUNO MAQOREN LE CO YUE PREDESLIAS CON ATDOREN NEGUIRAS EXPCORASLO EC ENPATIO OD ES LON MIC BEISDILON Q UDICIJARAS TALA BEJ MAN EC RASNOMKARE ES NUN ADAYUEN ENDA VOTACIJATIOS NE PROLUTIRA POR CA SETENILAL LE MASDESER CON ESDORSON OD PCESAMESDE OPERADIBON ENPETIACMESDE TUASLO CON NINDEMAN VORMAS PARDE LE ISVRAENDRUTDURAN TRIDITAN CON ADAYUEN TOSDRA ESDORSON TRIDITON LE OD PUELES TAUNAR GRABEN DRANDORSON E ISTCUNO POSER ES PECIGRO BILAN HUMASAN CO YUE AUMESDA CA PRENIOS PARA YUE CAN ORGASIJATIOSEN PAGUES US RENTADE PARA AGRABAR EC PROFCEMA MUTHON LE ENDON LINPONIDIBON OD SO NE TOSNDRUQES TOS CA NEGURILAL ES CA BASGUARLIA LEC LINEO Q ATDUACMESDE ENDAMON BIESLO US AUMESDO MANIBO ES EC SUMERO LE BUCSERAFICILALEN YUE NE ILESDIVITAS ES CON ESDORSON OD HINDORITAMESDE CAN BUCSERATIOSEN ES CA REGIOS LE CA APZ SO NE HAS HETHO PUFCITAN PERO EN PROFAFCE YUE ENDO TAMFIE ES LON MIC BEISDILON A MELILA YUE CA EXDORNIOS MUCDIVATEDITA NEA MAN VRETUESDE ES EC PANALO HATER PUFCITA USA BUCSERATIOS SO ÑESEVITIAFA SI AC ADATASDE SI A CA ORGASIJATIOS AVETDALA CON ADATASDEN YUERIAS PERMASETER ISBINIFCEN EC MAQOR DIEMPO PONIFCE TOS CA ENPERASJA LE MASDESER NU ATTENO A CAN RELEN LE CAN BITDIMAN LURASDE CARGON PERIOLON Q CAN BITDIMAN YUERIAS EBIDAR EC LAO A CA REPUDATIOS EC IMPATDO VISASTIERO Q ODRAN TOSNETUESTIAN YUE NE LERIBAS LE USA BUCSERATIOS CA EXDORNIOS MUCDIVATEDITA HA TAMFIALO DOLO ENO AHORA CON ADATASDEN NIMPCEMESDE AMESAJAS TOS EXPOSER CAN BUCSERATIOSEN Q PUFCITAR CON LADON NESNIFCEN PARA AUMESDAR CA URGESTIA LE PAGAR CAN ORGASIJATIOSEN ES CA APZ LEFES ENDAR PREPARALAN PARA HATER VRESDE A ENDE DIPO LE OPERALOREN LE EXDORNIOS PERO CAMESDAFCEMESDE MUTHON ES CA REGIOS TARETES LE EXPERIESTIA TOS ENDE DIPO LE AMESAJAN O SO CAN DOMAS ES NERIO POR CO DASDO PREBEMON YUE CON ADATASDEN HARAS PUFCITAN MUTHAN MAN BUCSERATIOSEN LE ORGASIJATIOSEN ES CA APZ RUNIA MASDESLRA USA PONDURA AGRENIBA ES CO YUE YUELA LE LON MIC BEISDIUSO Q ES LON MIC BEISDILON TOS US ESVANIN NONDESILO ES CON OFZEDIBON LE CA ODAS EUROPA LEC ENDE UTRASIA AVGASINDAS Q EC NETDOR ESERGEDITO EC GOFIERSO LE CON ENDALON USILON ADRIFUQO A RUNIA EC ISTILESDE LE TOMPROMINO LE CA TALESA LE NUMISINDRO LE NOCARKISLN CO YUE LEMUENDRA YUE RUNIA DIESE CA TAPATILAL LE COGRAR US IMPATDO GESERACIJALO TREEMON YUE CON ESDORSON LE CA TALESA LE NUMISINDRO LE NOVDKARE Q LE CA TALESA LE NUMISINDRO ES GESERAC NEGUIRAS NIESLO EC OFZEDIBO LE RUNIA EC PROXIMO AO ALEMAN CA MASIPUCATIOS LE CON MEDOLON LE AUDESDITATIOS ES ESDORSON HIFRILON LE SUFE O ES EC NIDIO POSE LE MASIVIENDO DATDITAN ISSOBALORAN CO YUE SON CCEBA A PESNAR YUE EC SIBEC LE NOVINDITATIOS Q EC ACTASTE LE CAN OPERATIOSEN RUNAN NE AMPCIARAS IRAS UDICIJARA NUN HERRAMIESDAN TIFERSEDITAN LE MASERA MUTHO MAN AGRENIBA PARA PROMOBER CON ISDERENEN REGIOSACEN CAN OPERATIOSEN LE ISVORMATIOS ADRIFUILAN POR CON ENDALON USILON A IRAS ES LON MIC BEISDE Q LON MIC BEISDIUSO LEMONDRAROS DATDITAN MAN AGRENIBAN YUE CAN BINDAN ASDERIORMESDE IRAS DAMFIES NEGUIRA ADATASLO A INRAEC Q A ODRON PAINEN LE ORIESDE MELIO HAS LEMONDRALO NU TAPATILAL Q BOCUSDAL LE UDICIJAR MACKARE LENDRUTDIBO ANI YUE PREBEMON YUE APROBETHARAS TUACYUIER OPORDUSILAL YUE NE CEN PRENESDE ES UCDIMA ISNDASTIA BEREMON A IRAS DRADASLO LE TREAR US MAQOR EYUICIFRIO LE POLER ES VUSTIOS LE NUN PROPION ISDERENEN CON HEMON BINDO TOS OFZEDIBON ES EC EXDRASZERO PERO CO MAN PROFAFCE EN YUE NU OFZEDIBO A CO CARGO LE LON MIC BEISDILON NEA REGIOSAC THISA NEGUIRA NIESLO MUQ AGRENIBA APOQASLO CA ISITIADIBA LEC TISDUROS Q RUDA LE CA NELA UDICIJASLO EC TIFERENPIOSAZE AHORA YUE EC MISINDERIO LE NEGURILAL LEC ENDALO Q EC EZERTIDO POPUCAR LE CIFERATIOS HAS TOMPCEDALO CA MAQOR PARDE LE NU REORGASIJATIOS NUN OPERATIOSEN BAS A ENDAR MUTHO MAN TESDRALAN THISA HA MONDRALO NU BOCUSDAL LE AMPCIAR NUN OPERATIOSEN Q DOMAR MELILAN YUE ASDEN EC PAIN SO ENDAFA LINPUENDO A DOMAR A MELILA YUE CAN DESNIOSEN GEOPOCIDITAN NIGUES AUMESDASLO CA GRAS PREGUSDA EN TUASLO BEREMON A THISA LENPCEGAR ACGUSAN LE NUN TAPATILALEN LENDRUTDIBAN TOSOTILAN PERO AUS SO UDICIJALAN TOREA LEC SORDE VRESDE A NUN LENAVION GEOGRAVITON ISDERSATIOSACEN Q VISASTIERON ENDA LINPUENDA A DOMAR MUTHON RIENGON ES LON MIC BEISDILON ENPERAMON BER A TOREA LEC SORDE VCEXIOSAR NUN TAPATILALEN TIFERSEDITAN PARA TOMPESNAR NU VACDA LE ODRON ISNDRUMESDON LE POLER SATIOSAC EC APARADO TIFERSEDITO SORTOREASO NEGUIRA APOQASLO AC REGIMES LE WIM MELIASDE CA VISASTIATIOS LE CAN AMFITIOSEN SUTCEAREN Q CA OFDESTIOS LE ISVORMATIOS ENDRADEGITA TOS CA AVIRMATIOS LEC TOSDROC DACIFAS Q CA NACILA LE CAN VUERJAN ENDALOUSILESNEN LE AVGASINDAS NE PUELES ASDITIPAR MAN OPERATIOSEN LE TIFERENPIOSAZE E ISVORMATIOS EMPEJAREMON A BER A CON ATDOREN HAFIDUACEN LE CAN OPERATIOSEN LE ISVORMATIOS IRAS THISA Q RUNIA IMPUCNAR SARRADIBAN PARA APOQAR NUN ISDERENEN HANDA VISACEN LE LON MIC BEISDIUSO Q PRISTIPION LE LON MIC BEISDILON DAMFIES HARAS HISTAPIE ES CAN PERTEPTIOSEN SEGADIBAN ES DORSO A CON ATOSDETIMIESDON ENPETIACMESDE CA PERTEPTIOS LE YUE CON ENDALON USILON SO TUMPCIO NUN TOMPROMINON TOS ORGASIJATIOSEN Q PAINEN CA LETCARATIOS LE US EMIRADO DAMFIES PUELE ESBACESDOSAR A CON PERPEDRALOREN EXDREMINDAN PROINCAMITON PARA YUE AMPCIES NUN ATDIBILALEN LE PROPAGASLA CO YUE ISTCUQE DATDITAN LE HATWDIBINMO TOMO NUNDIDUTIOSEN CA APROPIATIOS LE TUESDAN ES CAN RELEN NOTIACEN Q CA LIVUNIOS LE CINDAN LE ANENISADON TOMPICALAN A PARDIR LE LADON LE TOLIGO AFIERDO O TOMPROMEDILON CA EVITATIA LE CAN LEEPVAWEN BILEON VACNON TOS APARIESTIA MUQ REAC ES CAN OPERATIOSEN LE ISVORMATIOS NE HA LEFADILO ES CA TOMUSILAL LE NEGURILAL PERO CON ATDOREN PADROTISALON POR EC ENDALO Q TOS MODIBATIOSEN VISASTIERAN DAMFIES HAS LEMONDRALO US TRETIESDE ISDEREN ES ENDA DETSOCOGIA MASLIASD OFNERBO PUFCITATIOSEN Q ASUSTION NOFRE CA DETSOCOGIA LEEPVAWE ES VORON TRIMISACEN TCASLENDISON ES RUNO E ISGCEN A CO CARGO LE LON MIC BEISDE Q LON MIC BEISDIUSO CON UNUARION LE ENDON VORON TCASLENDISON ASUSTIAFAS BILEON E IMAGESEN LEEPVAWE PERNOSACIJALON ANI TOMO VORMATIOS PARA YUE CON UNUARION TREARAS NUN PROPION MELION MASIPUCALON EC AULIO LEEPVAWE HA VATICIDALO ENYUEMAN LE VRAULE LEC DIPO LE TORREO ECETDROSITO TOMERTIAC CAN VUESDEN AFIERDAN POSES LE RECIEBE TOMO CON PERPEDRALOREN HAS UDICIJALO MELION LE TOMUSITATIOS MASIPUCALON PARA ECULIR CON PRODOTOCON LE NEGURILAL LE CA AUDESDITATIOS MUCDIVATDORIAC Q CAN MELILAN LE BERIVITATIOS LE ILESDILAL LE TOSOJTA A NU TCIESDE PREBEMON YUE A MELILA YUE AUMESDE CA LINPOSIFICILAL LE CA DETSOCOGIA LEEPVAWE ES LON MIC BEISDILON ES ALECASDE CON PERPEDRALOREN LE LECIDON Q LE ENPIOSAZE ISDEGRARAS TALA BEJ MAN MELION MASIPUCALON ES NUN OPERATIOSEN PARA HATER MAN TOSBISTESDE CA ISGESIERIA NOTIAC ALAPDAR VATICMESDE EC TOSDESILO A OFZEDIBON ENPETIVITON Q LERRODAR ACGUSON NINDEMAN LE BERIVITATIOS LE ILESDILAL AUDOMADIJALON CA NUFTOSDRADATIOS LE CAN OPERATIOSEN MACITIONAN A DRABEN LE LINDISDON METASINMON TOMO CON PROGRAMAN LE AVICIATIOS LE RASNOMKARE CON BESLELOREN LE EXPCOIDN CON TOSDRADINDAN TOMERTIACEN CON BESLELOREN LE MACKARE Q CON AUDOSOMON TOSDRIFUQE DASDO A CA TRETIESDE VRETUESTIA TOMO A CA TOMPCEZILAL LE CA ATDIBILAL LE CAN TIFERAMESAJAN SO BEMON ISLITION LE YUE ENDO MERME ES LON MIC BEISDILON CA LIVUMISATIOS LE CAN LINDISTIOSEN ESDRE CAN OPERATIOSEN TOS MODIBATIOS VISASTIERA Q CAN PADROTISALAN POR EC ENDALO DASDO ES CO YUE RENPETDA A CAN HERRAMIESDAN TOMO AC DACESDO CA MALURATIOS LE CON MERTALON CEGIDIMON E ICEGIDIMON LE HERRAMIESDAN Q NERBITION LE DERTERON Q CA TRETIESDE ENPETIACIJATIOS'"
            ],
            "application/vnd.google.colaboratory.intrinsic+json": {
              "type": "string"
            }
          },
          "metadata": {},
          "execution_count": 34
        }
      ]
    },
    {
      "cell_type": "markdown",
      "source": [
        "Como se mencionó antes, no todo el alfabeto fue alineado en la primera iteración, sin embargo se pueden deducir el resto del alfabeto a través de algunas palabras, por ejemplo:\n",
        "- AUSYUE -> AUNQUE \n",
        "- TIFERNEGURILAL -> CIBERSEGURIDAD \n",
        "- OPERATIOSEN -> OPERACIONES"
      ],
      "metadata": {
        "id": "dca5Si-9mEQp"
      }
    },
    {
      "cell_type": "code",
      "source": [
        "traducer_update = {';': 'E',\n",
        "                  '$': 'A',\n",
        "                  '&': 'O',\n",
        "                  '#': 'N',\n",
        "                  '+': 'S',\n",
        "                  ']': 'I',\n",
        "                  '¿': 'R',\n",
        "                  '{': 'L',\n",
        "                  '?': 'D',\n",
        "                  '-': 'T',\n",
        "                  '=': 'C',\n",
        "                  ':': 'U',\n",
        "                  '/': 'P',\n",
        "                  '!': 'M',\n",
        "                  '”': 'B',\n",
        "                  '[': 'G',\n",
        "                  ',': 'F',\n",
        "                  '°': 'V',\n",
        "                  '@': 'Q',\n",
        "                  '|': 'Y',\n",
        "                  '(': 'H',\n",
        "                  ')': 'J',\n",
        "                  '¬': 'Z',\n",
        "                  '~': 'X',\n",
        "                  '\\\\': 'K',\n",
        "                  '}': 'W',\n",
        "                  '%': 'Ñ',\n",
        "                  ' ': ' '\n",
        "                  }"
      ],
      "metadata": {
        "id": "I_1feAtDLig8"
      },
      "execution_count": 35,
      "outputs": []
    },
    {
      "cell_type": "markdown",
      "source": [
        "Después de aplicar las correcciones, se vuelve a correr el texto cifrado con el diccionario corregido y el mensaje es revelado:"
      ],
      "metadata": {
        "id": "68gS3Dlhm_XY"
      }
    },
    {
      "cell_type": "code",
      "source": [
        "def apply_update(cipher,traducer_updated):\n",
        "  decoded_new = \"\"\n",
        "  for character in cipher:\n",
        "    try:\n",
        "      decoded_new +=  traducer_updated[character]\n",
        "    except:\n",
        "      continue\n",
        "  return decoded_new\n",
        "      \n",
        "    "
      ],
      "metadata": {
        "id": "JKAGFPk8M_lD"
      },
      "execution_count": 36,
      "outputs": []
    },
    {
      "cell_type": "code",
      "source": [
        "decoded_update = apply_update(cipher_sentences,traducer_update)"
      ],
      "metadata": {
        "id": "m5zWCZUNN2tS"
      },
      "execution_count": 37,
      "outputs": []
    },
    {
      "cell_type": "code",
      "source": [
        "decoded_update"
      ],
      "metadata": {
        "colab": {
          "base_uri": "https://localhost:8080/",
          "height": 139
        },
        "id": "D35G6iDcOX1u",
        "outputId": "09ece52e-2e32-4c2e-ab1f-cef9302be2c3"
      },
      "execution_count": 38,
      "outputs": [
        {
          "output_type": "execute_result",
          "data": {
            "text/plain": [
              "'AUNQUE NUESTRAS VIDAS SE VIERON ALTERADAS EN EL DOS MIL VEINTE LA INDUSTRIA DE LA CIBERSEGURIDAD VOLVIO CON FUERZA EN DOS MIL VEINTIUNO MANDIANT ACEPTO EL RETO DE TRABAJAR EN CIRCUNSTANCIAS SIEMPRE CAMBIANTES SIN DEJAR DE OFRECER A LOS CLIENTES SERVICIOS DE PRIMERA CALIDAD QUE SE ASOCIAN CON NUESTROS EXPERTOS EN CIBERSEGURIDAD LAS EXPECTATIVAS SON FUNDAMENTALES UNA COSA CON LA QUE SIEMPRE PODEMOS CONTAR ES EL NIVEL DE INCERTIDUMBRE EN EL AMBITO CIBERNETICO LOS ATACANTES CAMBIAN REGULARMENTE SUS TACTICAS TECNICAS Y PROCEDIMIENTOS PARA EVADIR LA DETECCION DEJANDO A LOS DEFENSORES LUCHANDO PARA SEGUIR EL RITMO CUANDO MANDIANT AYUDA A REDUCIR ESA RECHA COMPARTIENDO NUESTROS APRENDIZAJES Y EXPECTATIVAS INFORMADOS Y RESPALDADOS POR PRUEBAS TAMBIEN AVANZAMOS EN LA MISION DE MANDIANT HACER QUE TODAS LAS ORGANIZACIONES ESTEN SEGURAS CONTRA LAS CIBERAMENAZAS Y CONFIEN EN SU PREPARACION EL INFORME DE ESTE AÑO CATORCE PREDICCIONES DE CIBERSEGURIDAD PARA DOS MIL VEINTIDOS Y MAS ALLA PRESENTA MAS DE UNA DOCENA DE PUNTOS DE VISTA DE NUESTROS LIDERES Y PRINCIPALES EXPERTOS UBICADOS EN TODO EL MUNDO INCLUYENDO A SANDRA JOYCE EVP GLOBAL INTEL ADVANCED PRACTICES Y CHARLES CARMAKAL SVP Y DIRECTOR DE TECNOLOGIA PASE LA PAGINA PARA EXPLORAR LAS PREDICCIONES DE SEGURIDAD DE MANDIANT PARA VEINTIDOS LA AMENAZA DEL RANSOMWARE HA CRECIDO SIGNIFICATIVAMENTE A LO LARGO DE LA ULTIMA DECADA Y CONTINUARA SU TENDENCIA AL ALZA EL NEGOCIO DEL RANSOMWARE ES SENCILLAMENTE DEMASIADO LUCRATIVO A MENOS QUE LOS GOBIERNOS INTERNACIONALES Y LAS INNOVACIONES TECNOLOGICAS PUEDAN ALTERAR DE MANERA FUNDAMENTAL EL CALCULO DE LA RENTABILIDAD DE LOS ATACANTES AUNQUE HEMOS VISTO ESFUERZOS PARA INTERRUMPIR LAS OPERACIONES Y RESPONSABILIZAR A LOS ACTORES DE LAS AMENAZAS LOS CIBERDELINCUENTES SIMPLEMENTE SE TRASLADAN A OTRA PLATAFORMA COMO PARTE DEL MODELO DE NEGOCIO DEL RANSOMWARE COMO SERVICIO PARA CONTINUAR CON SUS OPERACIONES MUCHOS ACTORES DEL RANSOMWARE OPERAN DESDE LUGARES QUE NO SE RIGEN POR LA LEGISLACION ESTADOUNIDENSE Y DESDE REGIONES DONDE SUS ACCIONES NO TIENEN TANTOS COSTOS NI REPERCUSIONES ESPERAMOS VER MAS LAS OPERACIONES DE RANSOMWARE COMO SERVICIO SUELEN IMPLICAR A VARIOS ACTORES CADA UNO DE LOS CUALES REALIZA UN ELEMENTO ESPECIFICO DEL ATAQUE A CAMBIO DE UNA CUOTA O UNA PARTE DE LOS ENEFICIOS PREVEMOS QUE A LO LARGO DEL DOS MIL VEINTIDOS AUMENTARA EL CONFLICTO ENTRE ESTOS ACTORES Y ESTE PUEDE ACABAR PROVOCANDO MALOS RESULTADOS PARA LAS VICTIMAS LOS CONFLICTOS PUEDEN PRODUCIRSE CUANDO LOS OBJETIVOS NO PAGAN O SI LAS FUERZAS DE SEGURIDAD DESMANTELAN LA CAPACIDAD DE COBRO DE LOS PERPETRADORES TAMBIEN PUEDEN SURGIR CONFLICTOS CUANDO LAS ORGANIZACIONES DE VICTIMAS ACABAN PAGANDO UN ACTOR CONCRETO PUEDE SENTIR QUE NO HA COBRADO LO SUFICIENTE O QUE NO ESTA RECIBIENDO SU PARTE JUSTA YA ESTAMOS VIENDO ESTE TIPO DE CONFLICTOS ENTRE LOS PERPETRADORES Y LAS VICTIMAS PODRIAN SUFRIR POR ELLO EN LOS PROXIMOS DOCE MESES ESPERAMOS VER MUCHAS SITUACIONES EN LAS QUE LAS VICTIMAS PAGARAN UN MILLON DE DOLARES O MAS PARA EVITAR QUE SE PUBLIQUEN SUS DATOS ROBADOS EN ALGUNAS DE ESTAS SITUACIONES ALGUNOS O TODOS ESOS DATOS PUEDEN SER PUBLICADOS POR UNO DE LOS ACTORES DE LA OPERACION DEBIDO A UN CONFLICTO CONFORME ESTOS HECHOS AUMENTEN MAYOR SERA EL EFECTO EN LA FORMA EN QUE LAS ORGANIZACIONES PIENSEN SOBRE EL PAGO DE RESCATES EL GOBIERNO DE LOS ESTADOS UNIDOS ESTA ENFOCADO EN EL RANSOMWARE Y EN COMO FRENARLO Y ESTO PUEDE TENER CONSECUENCIAS NEGATIVAS PARA LAS ORGANIZACIONES POR EJEMPLO LAS ORGANIZACIONES ESTADOUNIDENSES Y LAS QUE NO TIENEN SEDE EN LOS ESTADOS UNIDOS PERO OPERAN EN ESE PAIS NO PUEDEN PAGAR A PERPETRADORES SANCIONADOS NI A NINGUN GRUPO O INDIVIDUO QUE FIGURE EN LA LISTA DE NO PAGO DEL DEPARTAMENTO DEL TESORO DE LOS ESTADOS UNIDOS AUN ASI EN VARIOS CASOS PUBLICOS LAS VICTIMAS PAGARON A GRUPOS QUE PODIAN TENER ALGUNA CONEXION SUELTA CON LAS ENTIDADES SANCIONADAS NO NECESARIAMENTE CONEXIONES GARANTIZADAS O INCLUSO CONCRETAS PERO SI ALGUNA CREENCIA LEVE DE QUE PODRIA HABER UNA CONEXION NO ESTAMOS SEGUROS DE QUE EL GOBIERNO DE UN ESCARMIENTO A UNA O MAS DE LAS GRANDES ORGANIZACIONES QUE REALICEN UN PAGO A UNA PRESUNTA ENTIDAD SANCIONADA CON LA MERA INTENCION DE INTENTAR FRENAR Y EVITAR QUE LAS ORGANIZACIONES VICTIMAS PAGUEN GRANDES SUMAS POR DEMANDAS DE EXTORSION HAY VARIAS PERSPECTIVAS DIFERENTES SOBRE LOS PAGOS DE EXTORSION INCLUIDA LA DE PROHIBIRLOS DIRECTAMENTE PARA QUE TODO EL PROCESO SEA ILEGAL EN CONSECUENCIA PREVEMOS QUE PROBABLEMENTE HABRA ALGUN RECURSO NEGATIVO PARA UNA ORGANIZACION AFECTADA QUE HAYA PAGADO UNA DEMANDA DE EXTORSION A LO LARGO DE DOS MIL VEINTE OBSERVAMOS QUE LOS PERPETRADORES DE AJA SOFISTICACION APRENDIERON QUE PODIAN CREAR GRANDES IMPACTOS EN EL ESPACIO DE LA TECNOLOGIA OPERATIVA OT QUIZAS INCLUSO MAYORES DE LO QUE PRETENDIAN LOS ACTORES SEGUIRAN EXPLORANDO EL ESPACIO OT EN DOS MIL VEINTIDOS Y UTILIZARAN CADA VEZ MAS EL RANSOMWARE EN SUS ATAQUES ESTA FOCALIZACION SE PRODUCIRA POR LA NECESIDAD DE MANTENER LOS ENTORNOS OT PLENAMENTE OPERATIVOS ESPECIALMENTE CUANDO LOS SISTEMAS FORMAN PARTE DE INFRAESTRUCTURAS CRITICAS LOS ATAQUES CONTRA ENTORNOS CRITICOS DE OT PUEDEN CAUSAR GRAVES TRASTORNOS E INCLUSO PONER EN PELIGRO VIDAS HUMANAS LO QUE AUMENTA LA PRESION PARA QUE LAS ORGANIZACIONES PAGUEN UN RESCATE PARA AGRAVAR EL PROBLEMA MUCHOS DE ESTOS DISPOSITIVOS OT NO SE CONSTRUYEN CON LA SEGURIDAD EN LA VANGUARDIA DEL DISEÑO Y ACTUALMENTE ESTAMOS VIENDO UN AUMENTO MASIVO EN EL NUMERO DE VULNERABILIDADES QUE SE IDENTIFICAN EN LOS ENTORNOS OT HISTORICAMENTE LAS VULNERACIONES EN LA REGION DE LA APJ NO SE HAN HECHO PUBLICAS PERO ES PROBABLE QUE ESTO CAMBIE EN DOS MIL VEINTIDOS A MEDIDA QUE LA EXTORSION MULTIFACETICA SEA MAS FRECUENTE EN EL PASADO HACER PUBLICA UNA VULNERACION NO ENEFICIABA NI AL ATACANTE NI A LA ORGANIZACION AFECTADA LOS ATACANTES QUERIAN PERMANECER INVISIBLES EL MAYOR TIEMPO POSIBLE CON LA ESPERANZA DE MANTENER SU ACCESO A LAS REDES DE LAS VICTIMAS DURANTE LARGOS PERIODOS Y LAS VICTIMAS QUERIAN EVITAR EL DAÑO A LA REPUTACION EL IMPACTO FINANCIERO Y OTRAS CONSECUENCIAS QUE SE DERIVAN DE UNA VULNERACION LA EXTORSION MULTIFACETICA HA CAMBIADO TODO ESO AHORA LOS ATACANTES SIMPLEMENTE AMENAZAN CON EXPONER LAS VULNERACIONES Y PUBLICAR LOS DATOS SENSIBLES PARA AUMENTAR LA URGENCIA DE PAGAR LAS ORGANIZACIONES EN LA APJ DEBEN ESTAR PREPARADAS PARA HACER FRENTE A ESTE TIPO DE OPERADORES DE EXTORSION PERO LAMENTABLEMENTE MUCHOS EN LA REGION CARECEN DE EXPERIENCIA CON ESTE TIPO DE AMENAZAS O NO LAS TOMAN EN SERIO POR LO TANTO PREVEMOS QUE LOS ATACANTES HARAN PUBLICAS MUCHAS MAS VULNERACIONES DE ORGANIZACIONES EN LA APJ RUSIA MANTENDRA UNA POSTURA AGRESIVA EN LO QUE QUEDA DE DOS MIL VEINTIUNO Y EN DOS MIL VEINTIDOS CON UN ENFASIS SOSTENIDO EN LOS OBJETIVOS DE LA OTAN EUROPA DEL ESTE UCRANIA AFGANISTAN Y EL SECTOR ENERGETICO EL GOBIERNO DE LOS ESTADOS UNIDOS ATRIBUYO A RUSIA EL INCIDENTE DE COMPROMISO DE LA CADENA DE SUMINISTRO DE SOLARWINDS LO QUE DEMUESTRA QUE RUSIA TIENE LA CAPACIDAD DE LOGRAR UN IMPACTO GENERALIZADO CREEMOS QUE LOS ENTORNOS DE LA CADENA DE SUMINISTRO DE SOFTWARE Y DE LA CADENA DE SUMINISTRO EN GENERAL SEGUIRAN SIENDO EL OBJETIVO DE RUSIA EL PROXIMO AÑO ADEMAS LA MANIPULACION DE LOS METODOS DE AUTENTICACION EN ENTORNOS HIBRIDOS DE NUBE O EN EL SITIO PONE DE MANIFIESTO TACTICAS INNOVADORAS LO QUE NOS LLEVA A PENSAR QUE EL NIVEL DE SOFISTICACION Y EL ALCANCE DE LAS OPERACIONES RUSAS SE AMPLIARAN IRAN UTILIZARA SUS HERRAMIENTAS CIBERNETICAS DE MANERA MUCHO MAS AGRESIVA PARA PROMOVER LOS INTERESES REGIONALES LAS OPERACIONES DE INFORMACION ATRIBUIDAS POR LOS ESTADOS UNIDOS A IRAN EN DOS MIL VEINTE Y DOS MIL VEINTIUNO DEMOSTRARON TACTICAS MAS AGRESIVAS QUE LAS VISTAS ANTERIORMENTE IRAN TAMBIEN SEGUIRA ATACANDO A ISRAEL Y A OTROS PAISES DE ORIENTE MEDIO HAN DEMOSTRADO SU CAPACIDAD Y VOLUNTAD DE UTILIZAR MALWARE DESTRUCTIVO ASI QUE PREVEMOS QUE APROVECHARAN CUALQUIER OPORTUNIDAD QUE SE LES PRESENTE EN ULTIMA INSTANCIA VEREMOS A IRAN TRATANDO DE CREAR UN MAYOR EQUILIBRIO DE PODER EN FUNCION DE SUS PROPIOS INTERESES LOS HEMOS VISTO CON OBJETIVOS EN EL EXTRANJERO PERO LO MAS PROBABLE ES QUE SU OBJETIVO A LO LARGO DE DOS MIL VEINTIDOS SEA REGIONAL CHINA SEGUIRA SIENDO MUY AGRESIVA APOYANDO LA INICIATIVA DEL CINTURON Y RUTA DE LA SEDA UTILIZANDO EL CIBERESPIONAJE AHORA QUE EL MINISTERIO DE SEGURIDAD DEL ESTADO Y EL EJERCITO POPULAR DE LIBERACION HAN COMPLETADO LA MAYOR PARTE DE SU REORGANIZACION SUS OPERACIONES VAN A ESTAR MUCHO MAS CENTRADAS CHINA HA MOSTRADO SU VOLUNTAD DE AMPLIAR SUS OPERACIONES Y TOMAR MEDIDAS QUE ANTES EL PAIS NO ESTABA DISPUESTO A TOMAR A MEDIDA QUE LAS TENSIONES GEOPOLITICAS SIGUEN AUMENTANDO LA GRAN PREGUNTA ES CUANDO VEREMOS A CHINA DESPLEGAR ALGUNAS DE SUS CAPACIDADES DESTRUCTIVAS CONOCIDAS PERO AUN NO UTILIZADAS COREA DEL NORTE FRENTE A SUS DESAFIOS GEOGRAFICOS INTERNACIONALES Y FINANCIEROS ESTA DISPUESTA A TOMAR MUCHOS RIESGOS EN DOS MIL VEINTIDOS ESPERAMOS VER A COREA DEL NORTE FLEXIONAR SUS CAPACIDADES CIBERNETICAS PARA COMPENSAR SU FALTA DE OTROS INSTRUMENTOS DE PODER NACIONAL EL APARATO CIBERNETICO NORCOREANO SEGUIRA APOYANDO AL REGIMEN DE KIM MEDIANTE LA FINANCIACION DE LAS AMBICIONES NUCLEARES Y LA OBTENCION DE INFORMACION ESTRATEGICA CON LA AFIRMACION DEL CONTROL TALIBAN Y LA SALIDA DE LAS FUERZAS ESTADOUNIDENSES DE AFGANISTAN SE PUEDEN ANTICIPAR MAS OPERACIONES DE CIBERESPIONAJE E INFORMACION EMPEZAREMOS A VER A LOS ACTORES HABITUALES DE LAS OPERACIONES DE INFORMACION IRAN CHINA Y RUSIA IMPULSAR NARRATIVAS PARA APOYAR SUS INTERESES HASTA FINALES DE DOS MIL VEINTIUNO Y PRINCIPIOS DE DOS MIL VEINTIDOS TAMBIEN HARAN HINCAPIE EN LAS PERCEPCIONES NEGATIVAS EN TORNO A LOS ACONTECIMIENTOS ESPECIALMENTE LA PERCEPCION DE QUE LOS ESTADOS UNIDOS NO CUMPLIO SUS COMPROMISOS CON ORGANIZACIONES Y PAISES LA DECLARACION DE UN EMIRATO TAMBIEN PUEDE ENVALENTONAR A LOS PERPETRADORES EXTREMISTAS PROISLAMICOS PARA QUE AMPLIEN SUS ACTIVIDADES DE PROPAGANDA LO QUE INCLUYE TACTICAS DE HACKTIVISMO COMO SUSTITUCIONES LA APROPIACION DE CUENTAS EN LAS REDES SOCIALES Y LA DIFUSION DE LISTAS DE ASESINATOS COMPILADAS A PARTIR DE DATOS DE CODIGO ABIERTO O COMPROMETIDOS LA EFICACIA DE LAS DEEPFAKES VIDEOS FALSOS CON APARIENCIA MUY REAL EN LAS OPERACIONES DE INFORMACION SE HA DEBATIDO EN LA COMUNIDAD DE SEGURIDAD PERO LOS ACTORES PATROCINADOS POR EL ESTADO Y CON MOTIVACIONES FINANCIERAS TAMBIEN HAN DEMOSTRADO UN CRECIENTE INTERES EN ESTA TECNOLOGIA MANDIANT OBSERVO PUBLICACIONES Y ANUNCIOS SOBRE LA TECNOLOGIA DEEPFAKE EN FOROS CRIMINALES CLANDESTINOS EN RUSO E INGLES A LO LARGO DE DOS MIL VEINTE Y DOS MIL VEINTIUNO LOS USUARIOS DE ESTOS FOROS CLANDESTINOS ANUNCIABAN VIDEOS E IMAGENES DEEPFAKE PERSONALIZADOS ASI COMO FORMACION PARA QUE LOS USUARIOS CREARAN SUS PROPIOS MEDIOS MANIPULADOS EL AUDIO DEEPFAKE HA FACILITADO ESQUEMAS DE FRAUDE DEL TIPO DE CORREO ELECTRONICO COMERCIAL LAS FUENTES ABIERTAS PONEN DE RELIEVE COMO LOS PERPETRADORES HAN UTILIZADO MEDIOS DE COMUNICACION MANIPULADOS PARA ELUDIR LOS PROTOCOLOS DE SEGURIDAD DE LA AUTENTICACION MULTIFACTORIAL Y LAS MEDIDAS DE VERIFICACION DE IDENTIDAD DE CONOZCA A SU CLIENTE PREVEMOS QUE A MEDIDA QUE AUMENTE LA DISPONIBILIDAD DE LA TECNOLOGIA DEEPFAKE EN DOS MIL VEINTIDOS EN ADELANTE LOS PERPETRADORES DE DELITOS Y DE ESPIONAJE INTEGRARAN CADA VEZ MAS MEDIOS MANIPULADOS EN SUS OPERACIONES PARA HACER MAS CONVINCENTE LA INGENIERIA SOCIAL ADAPTAR FACILMENTE EL CONTENIDO A OBJETIVOS ESPECIFICOS Y DERROTAR ALGUNOS SISTEMAS DE VERIFICACION DE IDENTIDAD AUTOMATIZADOS LA SUBCONTRATACION DE LAS OPERACIONES MALICIOSAS A TRAVES DE DISTINTOS MECANISMOS COMO LOS PROGRAMAS DE AFILIACION DE RANSOMWARE LOS VENDEDORES DE EXPLOITS LOS CONTRATISTAS COMERCIALES LOS VENDEDORES DE MALWARE Y LOS AUTONOMOS CONTRIBUYE TANTO A LA CRECIENTE FRECUENCIA COMO A LA COMPLEJIDAD DE LA ACTIVIDAD DE LAS CIBERAMENAZAS NO VEMOS INDICIOS DE QUE ESTO MERME EN DOS MIL VEINTIDOS LA DIFUMINACION DE LAS DISTINCIONES ENTRE LAS OPERACIONES CON MOTIVACION FINANCIERA Y LAS PATROCINADAS POR EL ESTADO TANTO EN LO QUE RESPECTA A LAS HERRAMIENTAS COMO AL TALENTO LA MADURACION DE LOS MERCADOS LEGITIMOS E ILEGITIMOS DE HERRAMIENTAS Y SERVICIOS DE TERCEROS Y LA CRECIENTE ESPECIALIZACION'"
            ],
            "application/vnd.google.colaboratory.intrinsic+json": {
              "type": "string"
            }
          },
          "metadata": {},
          "execution_count": 38
        }
      ]
    }
  ]
}